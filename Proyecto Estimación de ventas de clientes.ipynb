{
 "cells": [
  {
   "cell_type": "markdown",
   "id": "f5f09684",
   "metadata": {},
   "source": [
    "## **Proyecto- \"Estimacion de ventas de clientes bancarios\"**"
   ]
  },
  {
   "cell_type": "code",
   "execution_count": 1,
   "id": "ecb6a269",
   "metadata": {},
   "outputs": [],
   "source": [
    "import numpy as np\n",
    "import pandas as pd\n",
    "import pylab as plt\n",
    "from scipy.optimize import curve_fit\n",
    "import matplotlib.pyplot as plt\n",
    "import seaborn as sns\n",
    "import datetime"
   ]
  },
  {
   "cell_type": "markdown",
   "id": "91e7e1d0",
   "metadata": {},
   "source": [
    "Dataset de entrenamiento. "
   ]
  },
  {
   "cell_type": "code",
   "execution_count": 2,
   "id": "86551b01",
   "metadata": {},
   "outputs": [],
   "source": [
    "train=pd.read_csv( r'train_data_desafio.csv')"
   ]
  },
  {
   "cell_type": "markdown",
   "id": "56883c7e",
   "metadata": {},
   "source": [
    "El dataset brindado posee gran cantidad de faltantes, en sus variables numericas que se puede deber a que los clientes no brindaron la informacion por que puede que sea un pedido del banco que no es obligatorio o no les impide operar con el mismo, esto es la hipotesis mas real ya que si fuera por algun error u omision los faltantes serian menos.\n",
    "Tambien notamos que las variables categoricas no tienen absolutamente ningun faltante, esto es por que el informacion que tiene el banco de sus clientes, como los categoriza.\n",
    "\n",
    "Las variable numericas se pueden clasificar como \n",
    "\n",
    "var_sum = \"el importe de ventas diarios\"\n",
    "\n",
    "var_trx = \" la cantidad de transacciones diarias\"\n",
    "\n",
    "var_prom = \" el valor promedio de las ventas\""
   ]
  },
  {
   "cell_type": "code",
   "execution_count": 3,
   "id": "4a48240d",
   "metadata": {},
   "outputs": [
    {
     "name": "stdout",
     "output_type": "stream",
     "text": [
      "(799645, 68)\n",
      "id 0.00%\n",
      "mes 0.00%\n",
      "tipo_seg 0.00%\n",
      "categoria 0.00%\n",
      "tipo_com 0.00%\n",
      "tipo_cat 0.00%\n",
      "tipo_cli 0.00%\n",
      "VAR1_sum 79.04%\n",
      "VAR1_prom 79.04%\n",
      "VAR1_trx 79.04%\n",
      "VAR2_sum 87.05%\n",
      "VAR2_prom 87.05%\n",
      "VAR2_trx 87.05%\n",
      "VAR3_sum 67.43%\n",
      "VAR3_prom 67.43%\n",
      "VAR3_trx 67.43%\n",
      "VAR4_sum 65.07%\n",
      "VAR4_prom 65.07%\n",
      "VAR4_trx 65.07%\n",
      "VAR5_sum 29.53%\n",
      "VAR5_prom 29.53%\n",
      "VAR5_trx 29.53%\n",
      "VAR6_sum 99.69%\n",
      "VAR6_prom 99.69%\n",
      "VAR6_trx 99.69%\n",
      "VAR7_sum 92.54%\n",
      "VAR7_prom 92.54%\n",
      "VAR7_trx 92.54%\n",
      "VAR8_sum 95.61%\n",
      "VAR8_prom 95.61%\n",
      "VAR8_trx 95.61%\n",
      "VAR9_sum 99.76%\n",
      "VAR9_prom 99.76%\n",
      "VAR9_trx 99.76%\n",
      "VAR10_sum 99.41%\n",
      "VAR11_sum 4.70%\n",
      "VAR12_sum 4.70%\n",
      "VAR13_sum 4.70%\n",
      "VAR14_sum 4.70%\n",
      "VAR15_sum 4.70%\n",
      "VAR16_sum 94.59%\n",
      "VAR17_sum 87.77%\n",
      "VAR18_sum 4.70%\n",
      "VAR19_sum 4.70%\n",
      "VAR20_sum 4.70%\n",
      "VAR21_sum 4.70%\n",
      "VAR22_sum 4.70%\n",
      "VAR23_sum 55.00%\n",
      "VAR23_prom 55.00%\n",
      "VAR23_trx 55.00%\n",
      "VAR24_sum 89.19%\n",
      "VAR24_prom 89.19%\n",
      "VAR24_trx 89.19%\n",
      "VAR25_sum 60.81%\n",
      "VAR25_prom 60.81%\n",
      "VAR25_trx 60.81%\n",
      "VAR26_sum 99.48%\n",
      "VAR26_prom 99.48%\n",
      "VAR26_trx 99.48%\n",
      "VAR27_sum 96.69%\n",
      "VAR27_prom 96.69%\n",
      "VAR27_trx 96.69%\n",
      "VAR28_sum 92.77%\n",
      "VAR28_prom 92.77%\n",
      "VAR28_trx 92.77%\n",
      "VAR30_prom 64.90%\n",
      "VAR30_ratio 64.90%\n",
      "target_mes 0.00%\n"
     ]
    }
   ],
   "source": [
    "print(train.shape)\n",
    "for col in train.columns:\n",
    "    nulos=train[col].isna().sum()\n",
    "    print(col, \"{:.2f}%\".format(nulos*100/799645))"
   ]
  },
  {
   "cell_type": "markdown",
   "id": "bd8c676b",
   "metadata": {},
   "source": [
    "Aqui importamos un dataset que es el mismo del pricipio pero que fue trabajado para obtener la suma de las ventas por cliente informadas en el mes de cada periodo mesual y lo mismo para las transacciones.\n",
    "A su vez se calcularon los importes maximos en ventas y transacciones de cada periodo mensual informado, para tener refarencias sobre sus mayores movimientos.\n",
    "\n",
    "Como dijimos anteriormente, que la falta de informacion en los importes de cada una de las variables en tan grande es la razon por la que generamos variables calculadas y con las cuales vamos a trabajar."
   ]
  },
  {
   "cell_type": "code",
   "execution_count": 4,
   "id": "883db25c",
   "metadata": {},
   "outputs": [],
   "source": [
    "train_1=pd.read_csv( r'dfX.csv')"
   ]
  },
  {
   "cell_type": "code",
   "execution_count": 5,
   "id": "577bdf06",
   "metadata": {},
   "outputs": [
    {
     "data": {
      "text/html": [
       "<div>\n",
       "<style scoped>\n",
       "    .dataframe tbody tr th:only-of-type {\n",
       "        vertical-align: middle;\n",
       "    }\n",
       "\n",
       "    .dataframe tbody tr th {\n",
       "        vertical-align: top;\n",
       "    }\n",
       "\n",
       "    .dataframe thead th {\n",
       "        text-align: right;\n",
       "    }\n",
       "</style>\n",
       "<table border=\"1\" class=\"dataframe\">\n",
       "  <thead>\n",
       "    <tr style=\"text-align: right;\">\n",
       "      <th></th>\n",
       "      <th>Sum_total</th>\n",
       "      <th>MAX_Sum</th>\n",
       "      <th>Sum_trx_total</th>\n",
       "      <th>MAX_trx</th>\n",
       "    </tr>\n",
       "  </thead>\n",
       "  <tbody>\n",
       "    <tr>\n",
       "      <th>0</th>\n",
       "      <td>95455087.86</td>\n",
       "      <td>47209730.0</td>\n",
       "      <td>1.0</td>\n",
       "      <td>1.0</td>\n",
       "    </tr>\n",
       "    <tr>\n",
       "      <th>1</th>\n",
       "      <td>21141810.58</td>\n",
       "      <td>10239169.0</td>\n",
       "      <td>145.0</td>\n",
       "      <td>92.0</td>\n",
       "    </tr>\n",
       "    <tr>\n",
       "      <th>2</th>\n",
       "      <td>12718084.92</td>\n",
       "      <td>4920076.0</td>\n",
       "      <td>19.0</td>\n",
       "      <td>11.0</td>\n",
       "    </tr>\n",
       "    <tr>\n",
       "      <th>3</th>\n",
       "      <td>80920367.75</td>\n",
       "      <td>30643382.0</td>\n",
       "      <td>12.0</td>\n",
       "      <td>11.0</td>\n",
       "    </tr>\n",
       "    <tr>\n",
       "      <th>4</th>\n",
       "      <td>90222456.58</td>\n",
       "      <td>34485374.0</td>\n",
       "      <td>42.0</td>\n",
       "      <td>11.0</td>\n",
       "    </tr>\n",
       "  </tbody>\n",
       "</table>\n",
       "</div>"
      ],
      "text/plain": [
       "     Sum_total     MAX_Sum  Sum_trx_total  MAX_trx\n",
       "0  95455087.86  47209730.0            1.0      1.0\n",
       "1  21141810.58  10239169.0          145.0     92.0\n",
       "2  12718084.92   4920076.0           19.0     11.0\n",
       "3  80920367.75  30643382.0           12.0     11.0\n",
       "4  90222456.58  34485374.0           42.0     11.0"
      ]
     },
     "execution_count": 5,
     "metadata": {},
     "output_type": "execute_result"
    }
   ],
   "source": [
    "train_1.head()"
   ]
  },
  {
   "cell_type": "code",
   "execution_count": 6,
   "id": "e835c4ec",
   "metadata": {
    "scrolled": true
   },
   "outputs": [
    {
     "data": {
      "text/plain": [
       "Index(['Sum_total', 'MAX_Sum', 'Sum_trx_total', 'MAX_trx'], dtype='object')"
      ]
     },
     "execution_count": 6,
     "metadata": {},
     "output_type": "execute_result"
    }
   ],
   "source": [
    "train_1.columns"
   ]
  },
  {
   "cell_type": "code",
   "execution_count": 7,
   "id": "98bb2412",
   "metadata": {
    "scrolled": true
   },
   "outputs": [
    {
     "data": {
      "text/plain": [
       "Sum_total        0\n",
       "MAX_Sum          0\n",
       "Sum_trx_total    0\n",
       "MAX_trx          0\n",
       "dtype: int64"
      ]
     },
     "execution_count": 7,
     "metadata": {},
     "output_type": "execute_result"
    }
   ],
   "source": [
    "train_1.isna().sum()"
   ]
  },
  {
   "cell_type": "markdown",
   "id": "e2352d3e",
   "metadata": {},
   "source": [
    "Concatenamos los datasets."
   ]
  },
  {
   "cell_type": "code",
   "execution_count": 8,
   "id": "2ad2ff66",
   "metadata": {},
   "outputs": [],
   "source": [
    "train=pd.concat([train,train_1],axis=1)"
   ]
  },
  {
   "cell_type": "code",
   "execution_count": 9,
   "id": "5fa032b4",
   "metadata": {
    "scrolled": true
   },
   "outputs": [
    {
     "data": {
      "text/plain": [
       "Index(['id', 'mes', 'tipo_seg', 'categoria', 'tipo_com', 'tipo_cat',\n",
       "       'tipo_cli', 'VAR1_sum', 'VAR1_prom', 'VAR1_trx', 'VAR2_sum',\n",
       "       'VAR2_prom', 'VAR2_trx', 'VAR3_sum', 'VAR3_prom', 'VAR3_trx',\n",
       "       'VAR4_sum', 'VAR4_prom', 'VAR4_trx', 'VAR5_sum', 'VAR5_prom',\n",
       "       'VAR5_trx', 'VAR6_sum', 'VAR6_prom', 'VAR6_trx', 'VAR7_sum',\n",
       "       'VAR7_prom', 'VAR7_trx', 'VAR8_sum', 'VAR8_prom', 'VAR8_trx',\n",
       "       'VAR9_sum', 'VAR9_prom', 'VAR9_trx', 'VAR10_sum', 'VAR11_sum',\n",
       "       'VAR12_sum', 'VAR13_sum', 'VAR14_sum', 'VAR15_sum', 'VAR16_sum',\n",
       "       'VAR17_sum', 'VAR18_sum', 'VAR19_sum', 'VAR20_sum', 'VAR21_sum',\n",
       "       'VAR22_sum', 'VAR23_sum', 'VAR23_prom', 'VAR23_trx', 'VAR24_sum',\n",
       "       'VAR24_prom', 'VAR24_trx', 'VAR25_sum', 'VAR25_prom', 'VAR25_trx',\n",
       "       'VAR26_sum', 'VAR26_prom', 'VAR26_trx', 'VAR27_sum', 'VAR27_prom',\n",
       "       'VAR27_trx', 'VAR28_sum', 'VAR28_prom', 'VAR28_trx', 'VAR30_prom',\n",
       "       'VAR30_ratio', 'target_mes', 'Sum_total', 'MAX_Sum', 'Sum_trx_total',\n",
       "       'MAX_trx'],\n",
       "      dtype='object')"
      ]
     },
     "execution_count": 9,
     "metadata": {},
     "output_type": "execute_result"
    }
   ],
   "source": [
    "train.columns"
   ]
  },
  {
   "cell_type": "code",
   "execution_count": 10,
   "id": "2d9bd7dc",
   "metadata": {
    "scrolled": false
   },
   "outputs": [
    {
     "data": {
      "text/html": [
       "<div>\n",
       "<style scoped>\n",
       "    .dataframe tbody tr th:only-of-type {\n",
       "        vertical-align: middle;\n",
       "    }\n",
       "\n",
       "    .dataframe tbody tr th {\n",
       "        vertical-align: top;\n",
       "    }\n",
       "\n",
       "    .dataframe thead th {\n",
       "        text-align: right;\n",
       "    }\n",
       "</style>\n",
       "<table border=\"1\" class=\"dataframe\">\n",
       "  <thead>\n",
       "    <tr style=\"text-align: right;\">\n",
       "      <th></th>\n",
       "      <th>id</th>\n",
       "      <th>mes</th>\n",
       "      <th>tipo_seg</th>\n",
       "      <th>categoria</th>\n",
       "      <th>tipo_com</th>\n",
       "      <th>tipo_cat</th>\n",
       "      <th>tipo_cli</th>\n",
       "      <th>VAR1_sum</th>\n",
       "      <th>VAR1_prom</th>\n",
       "      <th>VAR1_trx</th>\n",
       "      <th>...</th>\n",
       "      <th>VAR28_sum</th>\n",
       "      <th>VAR28_prom</th>\n",
       "      <th>VAR28_trx</th>\n",
       "      <th>VAR30_prom</th>\n",
       "      <th>VAR30_ratio</th>\n",
       "      <th>target_mes</th>\n",
       "      <th>Sum_total</th>\n",
       "      <th>MAX_Sum</th>\n",
       "      <th>Sum_trx_total</th>\n",
       "      <th>MAX_trx</th>\n",
       "    </tr>\n",
       "  </thead>\n",
       "  <tbody>\n",
       "    <tr>\n",
       "      <th>0</th>\n",
       "      <td>a7777919487b</td>\n",
       "      <td>201811</td>\n",
       "      <td>PROD1</td>\n",
       "      <td>V6</td>\n",
       "      <td>COM2</td>\n",
       "      <td>RUBRO1</td>\n",
       "      <td>CLI2</td>\n",
       "      <td>NaN</td>\n",
       "      <td>NaN</td>\n",
       "      <td>NaN</td>\n",
       "      <td>...</td>\n",
       "      <td>NaN</td>\n",
       "      <td>NaN</td>\n",
       "      <td>NaN</td>\n",
       "      <td>809655.0</td>\n",
       "      <td>0.0</td>\n",
       "      <td>11.86</td>\n",
       "      <td>95455087.86</td>\n",
       "      <td>47209730.0</td>\n",
       "      <td>1.0</td>\n",
       "      <td>1.0</td>\n",
       "    </tr>\n",
       "    <tr>\n",
       "      <th>1</th>\n",
       "      <td>fcaa7556c315</td>\n",
       "      <td>201811</td>\n",
       "      <td>PROD1/PROD3</td>\n",
       "      <td>V6</td>\n",
       "      <td>COM3</td>\n",
       "      <td>RUBRO1</td>\n",
       "      <td>CLI2</td>\n",
       "      <td>1304600.0</td>\n",
       "      <td>14913.0</td>\n",
       "      <td>92.0</td>\n",
       "      <td>...</td>\n",
       "      <td>NaN</td>\n",
       "      <td>NaN</td>\n",
       "      <td>NaN</td>\n",
       "      <td>1000000.0</td>\n",
       "      <td>1.0</td>\n",
       "      <td>18.58</td>\n",
       "      <td>21141810.58</td>\n",
       "      <td>10239169.0</td>\n",
       "      <td>145.0</td>\n",
       "      <td>92.0</td>\n",
       "    </tr>\n",
       "    <tr>\n",
       "      <th>2</th>\n",
       "      <td>3bc2de7ac748</td>\n",
       "      <td>201811</td>\n",
       "      <td>PROD1</td>\n",
       "      <td>V6</td>\n",
       "      <td>COM2</td>\n",
       "      <td>RUBRO1</td>\n",
       "      <td>CLI2</td>\n",
       "      <td>NaN</td>\n",
       "      <td>NaN</td>\n",
       "      <td>NaN</td>\n",
       "      <td>...</td>\n",
       "      <td>NaN</td>\n",
       "      <td>NaN</td>\n",
       "      <td>NaN</td>\n",
       "      <td>NaN</td>\n",
       "      <td>NaN</td>\n",
       "      <td>3.92</td>\n",
       "      <td>12718084.92</td>\n",
       "      <td>4920076.0</td>\n",
       "      <td>19.0</td>\n",
       "      <td>11.0</td>\n",
       "    </tr>\n",
       "    <tr>\n",
       "      <th>3</th>\n",
       "      <td>fd625fa72713</td>\n",
       "      <td>201811</td>\n",
       "      <td>PROD1/PROD2</td>\n",
       "      <td>V6</td>\n",
       "      <td>COM3</td>\n",
       "      <td>RUBRO1</td>\n",
       "      <td>CLI2</td>\n",
       "      <td>NaN</td>\n",
       "      <td>NaN</td>\n",
       "      <td>NaN</td>\n",
       "      <td>...</td>\n",
       "      <td>NaN</td>\n",
       "      <td>NaN</td>\n",
       "      <td>NaN</td>\n",
       "      <td>12026754.0</td>\n",
       "      <td>0.0</td>\n",
       "      <td>25.75</td>\n",
       "      <td>80920367.75</td>\n",
       "      <td>30643382.0</td>\n",
       "      <td>12.0</td>\n",
       "      <td>11.0</td>\n",
       "    </tr>\n",
       "    <tr>\n",
       "      <th>4</th>\n",
       "      <td>6149148b99bd</td>\n",
       "      <td>201811</td>\n",
       "      <td>PROD1/PROD3</td>\n",
       "      <td>V4</td>\n",
       "      <td>COM3</td>\n",
       "      <td>RUBRO1</td>\n",
       "      <td>CLI2</td>\n",
       "      <td>251500.0</td>\n",
       "      <td>45791.0</td>\n",
       "      <td>6.0</td>\n",
       "      <td>...</td>\n",
       "      <td>NaN</td>\n",
       "      <td>NaN</td>\n",
       "      <td>NaN</td>\n",
       "      <td>NaN</td>\n",
       "      <td>NaN</td>\n",
       "      <td>19.58</td>\n",
       "      <td>90222456.58</td>\n",
       "      <td>34485374.0</td>\n",
       "      <td>42.0</td>\n",
       "      <td>11.0</td>\n",
       "    </tr>\n",
       "  </tbody>\n",
       "</table>\n",
       "<p>5 rows × 72 columns</p>\n",
       "</div>"
      ],
      "text/plain": [
       "             id     mes     tipo_seg categoria tipo_com tipo_cat tipo_cli  \\\n",
       "0  a7777919487b  201811        PROD1        V6     COM2   RUBRO1     CLI2   \n",
       "1  fcaa7556c315  201811  PROD1/PROD3        V6     COM3   RUBRO1     CLI2   \n",
       "2  3bc2de7ac748  201811        PROD1        V6     COM2   RUBRO1     CLI2   \n",
       "3  fd625fa72713  201811  PROD1/PROD2        V6     COM3   RUBRO1     CLI2   \n",
       "4  6149148b99bd  201811  PROD1/PROD3        V4     COM3   RUBRO1     CLI2   \n",
       "\n",
       "    VAR1_sum  VAR1_prom  VAR1_trx  ...  VAR28_sum  VAR28_prom  VAR28_trx  \\\n",
       "0        NaN        NaN       NaN  ...        NaN         NaN        NaN   \n",
       "1  1304600.0    14913.0      92.0  ...        NaN         NaN        NaN   \n",
       "2        NaN        NaN       NaN  ...        NaN         NaN        NaN   \n",
       "3        NaN        NaN       NaN  ...        NaN         NaN        NaN   \n",
       "4   251500.0    45791.0       6.0  ...        NaN         NaN        NaN   \n",
       "\n",
       "   VAR30_prom  VAR30_ratio  target_mes    Sum_total     MAX_Sum  \\\n",
       "0    809655.0          0.0       11.86  95455087.86  47209730.0   \n",
       "1   1000000.0          1.0       18.58  21141810.58  10239169.0   \n",
       "2         NaN          NaN        3.92  12718084.92   4920076.0   \n",
       "3  12026754.0          0.0       25.75  80920367.75  30643382.0   \n",
       "4         NaN          NaN       19.58  90222456.58  34485374.0   \n",
       "\n",
       "   Sum_trx_total  MAX_trx  \n",
       "0            1.0      1.0  \n",
       "1          145.0     92.0  \n",
       "2           19.0     11.0  \n",
       "3           12.0     11.0  \n",
       "4           42.0     11.0  \n",
       "\n",
       "[5 rows x 72 columns]"
      ]
     },
     "execution_count": 10,
     "metadata": {},
     "output_type": "execute_result"
    }
   ],
   "source": [
    "train.head()"
   ]
  },
  {
   "cell_type": "code",
   "execution_count": 11,
   "id": "eee72bb2",
   "metadata": {
    "scrolled": true
   },
   "outputs": [
    {
     "data": {
      "text/html": [
       "<div>\n",
       "<style scoped>\n",
       "    .dataframe tbody tr th:only-of-type {\n",
       "        vertical-align: middle;\n",
       "    }\n",
       "\n",
       "    .dataframe tbody tr th {\n",
       "        vertical-align: top;\n",
       "    }\n",
       "\n",
       "    .dataframe thead th {\n",
       "        text-align: right;\n",
       "    }\n",
       "</style>\n",
       "<table border=\"1\" class=\"dataframe\">\n",
       "  <thead>\n",
       "    <tr style=\"text-align: right;\">\n",
       "      <th></th>\n",
       "      <th>mes</th>\n",
       "      <th>VAR1_sum</th>\n",
       "      <th>VAR1_prom</th>\n",
       "      <th>VAR1_trx</th>\n",
       "      <th>VAR2_sum</th>\n",
       "      <th>VAR2_prom</th>\n",
       "      <th>VAR2_trx</th>\n",
       "      <th>VAR3_sum</th>\n",
       "      <th>VAR3_prom</th>\n",
       "      <th>VAR3_trx</th>\n",
       "      <th>...</th>\n",
       "      <th>VAR28_sum</th>\n",
       "      <th>VAR28_prom</th>\n",
       "      <th>VAR28_trx</th>\n",
       "      <th>VAR30_prom</th>\n",
       "      <th>VAR30_ratio</th>\n",
       "      <th>target_mes</th>\n",
       "      <th>Sum_total</th>\n",
       "      <th>MAX_Sum</th>\n",
       "      <th>Sum_trx_total</th>\n",
       "      <th>MAX_trx</th>\n",
       "    </tr>\n",
       "  </thead>\n",
       "  <tbody>\n",
       "    <tr>\n",
       "      <th>count</th>\n",
       "      <td>799645.000000</td>\n",
       "      <td>1.675850e+05</td>\n",
       "      <td>1.675850e+05</td>\n",
       "      <td>167585.000000</td>\n",
       "      <td>1.035680e+05</td>\n",
       "      <td>1.035680e+05</td>\n",
       "      <td>103568.000000</td>\n",
       "      <td>2.604090e+05</td>\n",
       "      <td>2.604090e+05</td>\n",
       "      <td>260409.000000</td>\n",
       "      <td>...</td>\n",
       "      <td>5.778900e+04</td>\n",
       "      <td>5.778900e+04</td>\n",
       "      <td>57789.000000</td>\n",
       "      <td>2.806730e+05</td>\n",
       "      <td>280673.000000</td>\n",
       "      <td>799645.000000</td>\n",
       "      <td>7.996450e+05</td>\n",
       "      <td>7.996450e+05</td>\n",
       "      <td>799645.000000</td>\n",
       "      <td>799645.000000</td>\n",
       "    </tr>\n",
       "    <tr>\n",
       "      <th>mean</th>\n",
       "      <td>201970.709496</td>\n",
       "      <td>2.436158e+06</td>\n",
       "      <td>7.087228e+04</td>\n",
       "      <td>123.464582</td>\n",
       "      <td>1.704199e+07</td>\n",
       "      <td>6.520918e+05</td>\n",
       "      <td>23.943602</td>\n",
       "      <td>1.399666e+07</td>\n",
       "      <td>3.946341e+06</td>\n",
       "      <td>7.577353</td>\n",
       "      <td>...</td>\n",
       "      <td>8.404618e+07</td>\n",
       "      <td>4.718607e+07</td>\n",
       "      <td>1.662496</td>\n",
       "      <td>2.358463e+06</td>\n",
       "      <td>0.046442</td>\n",
       "      <td>41.689772</td>\n",
       "      <td>1.420491e+08</td>\n",
       "      <td>8.889393e+07</td>\n",
       "      <td>61.117139</td>\n",
       "      <td>44.501916</td>\n",
       "    </tr>\n",
       "    <tr>\n",
       "      <th>std</th>\n",
       "      <td>77.954205</td>\n",
       "      <td>1.095139e+07</td>\n",
       "      <td>3.578166e+05</td>\n",
       "      <td>876.445521</td>\n",
       "      <td>6.103005e+07</td>\n",
       "      <td>2.161094e+06</td>\n",
       "      <td>15.473855</td>\n",
       "      <td>4.396866e+07</td>\n",
       "      <td>1.643295e+07</td>\n",
       "      <td>16.789980</td>\n",
       "      <td>...</td>\n",
       "      <td>2.459439e+08</td>\n",
       "      <td>1.072808e+08</td>\n",
       "      <td>1.522047</td>\n",
       "      <td>4.126634e+06</td>\n",
       "      <td>0.210508</td>\n",
       "      <td>107.614320</td>\n",
       "      <td>9.133779e+08</td>\n",
       "      <td>8.783098e+08</td>\n",
       "      <td>418.188715</td>\n",
       "      <td>408.479550</td>\n",
       "    </tr>\n",
       "    <tr>\n",
       "      <th>min</th>\n",
       "      <td>201811.000000</td>\n",
       "      <td>1.000000e+00</td>\n",
       "      <td>1.000000e+00</td>\n",
       "      <td>1.000000</td>\n",
       "      <td>0.000000e+00</td>\n",
       "      <td>0.000000e+00</td>\n",
       "      <td>1.000000</td>\n",
       "      <td>1.075000e+03</td>\n",
       "      <td>1.075000e+03</td>\n",
       "      <td>1.000000</td>\n",
       "      <td>...</td>\n",
       "      <td>0.000000e+00</td>\n",
       "      <td>0.000000e+00</td>\n",
       "      <td>1.000000</td>\n",
       "      <td>1.000000e+00</td>\n",
       "      <td>0.000000</td>\n",
       "      <td>0.000000</td>\n",
       "      <td>2.018110e+05</td>\n",
       "      <td>2.018110e+05</td>\n",
       "      <td>0.000000</td>\n",
       "      <td>0.000000</td>\n",
       "    </tr>\n",
       "    <tr>\n",
       "      <th>25%</th>\n",
       "      <td>201907.000000</td>\n",
       "      <td>2.380000e+05</td>\n",
       "      <td>1.056600e+04</td>\n",
       "      <td>7.000000</td>\n",
       "      <td>1.573641e+06</td>\n",
       "      <td>9.828600e+04</td>\n",
       "      <td>15.000000</td>\n",
       "      <td>8.108000e+05</td>\n",
       "      <td>2.977310e+05</td>\n",
       "      <td>1.000000</td>\n",
       "      <td>...</td>\n",
       "      <td>5.483250e+05</td>\n",
       "      <td>4.148080e+05</td>\n",
       "      <td>1.000000</td>\n",
       "      <td>4.076810e+05</td>\n",
       "      <td>0.000000</td>\n",
       "      <td>2.860000</td>\n",
       "      <td>7.829468e+06</td>\n",
       "      <td>4.591873e+06</td>\n",
       "      <td>4.000000</td>\n",
       "      <td>3.000000</td>\n",
       "    </tr>\n",
       "    <tr>\n",
       "      <th>50%</th>\n",
       "      <td>202002.000000</td>\n",
       "      <td>7.165600e+05</td>\n",
       "      <td>2.181100e+04</td>\n",
       "      <td>29.000000</td>\n",
       "      <td>5.215644e+06</td>\n",
       "      <td>2.316305e+05</td>\n",
       "      <td>21.000000</td>\n",
       "      <td>3.183369e+06</td>\n",
       "      <td>8.191150e+05</td>\n",
       "      <td>3.000000</td>\n",
       "      <td>...</td>\n",
       "      <td>1.833259e+07</td>\n",
       "      <td>1.234856e+07</td>\n",
       "      <td>1.000000</td>\n",
       "      <td>1.000000e+06</td>\n",
       "      <td>0.000000</td>\n",
       "      <td>12.780000</td>\n",
       "      <td>3.387054e+07</td>\n",
       "      <td>1.741661e+07</td>\n",
       "      <td>15.000000</td>\n",
       "      <td>9.000000</td>\n",
       "    </tr>\n",
       "    <tr>\n",
       "      <th>75%</th>\n",
       "      <td>202009.000000</td>\n",
       "      <td>1.983177e+06</td>\n",
       "      <td>5.000000e+04</td>\n",
       "      <td>94.000000</td>\n",
       "      <td>1.451981e+07</td>\n",
       "      <td>5.806338e+05</td>\n",
       "      <td>36.000000</td>\n",
       "      <td>1.154832e+07</td>\n",
       "      <td>2.520723e+06</td>\n",
       "      <td>7.000000</td>\n",
       "      <td>...</td>\n",
       "      <td>8.005697e+07</td>\n",
       "      <td>5.023172e+07</td>\n",
       "      <td>2.000000</td>\n",
       "      <td>2.500000e+06</td>\n",
       "      <td>0.000000</td>\n",
       "      <td>39.750000</td>\n",
       "      <td>1.152457e+08</td>\n",
       "      <td>5.944105e+07</td>\n",
       "      <td>51.000000</td>\n",
       "      <td>30.000000</td>\n",
       "    </tr>\n",
       "    <tr>\n",
       "      <th>max</th>\n",
       "      <td>202108.000000</td>\n",
       "      <td>1.868772e+09</td>\n",
       "      <td>6.500000e+07</td>\n",
       "      <td>166876.000000</td>\n",
       "      <td>8.963513e+09</td>\n",
       "      <td>3.538261e+08</td>\n",
       "      <td>459.000000</td>\n",
       "      <td>5.173952e+09</td>\n",
       "      <td>2.093000e+09</td>\n",
       "      <td>779.000000</td>\n",
       "      <td>...</td>\n",
       "      <td>5.715734e+09</td>\n",
       "      <td>3.820489e+09</td>\n",
       "      <td>28.000000</td>\n",
       "      <td>1.464218e+08</td>\n",
       "      <td>3.000000</td>\n",
       "      <td>7723.360000</td>\n",
       "      <td>1.727214e+11</td>\n",
       "      <td>1.725000e+11</td>\n",
       "      <td>167692.000000</td>\n",
       "      <td>166876.000000</td>\n",
       "    </tr>\n",
       "  </tbody>\n",
       "</table>\n",
       "<p>8 rows × 66 columns</p>\n",
       "</div>"
      ],
      "text/plain": [
       "                 mes      VAR1_sum     VAR1_prom       VAR1_trx      VAR2_sum  \\\n",
       "count  799645.000000  1.675850e+05  1.675850e+05  167585.000000  1.035680e+05   \n",
       "mean   201970.709496  2.436158e+06  7.087228e+04     123.464582  1.704199e+07   \n",
       "std        77.954205  1.095139e+07  3.578166e+05     876.445521  6.103005e+07   \n",
       "min    201811.000000  1.000000e+00  1.000000e+00       1.000000  0.000000e+00   \n",
       "25%    201907.000000  2.380000e+05  1.056600e+04       7.000000  1.573641e+06   \n",
       "50%    202002.000000  7.165600e+05  2.181100e+04      29.000000  5.215644e+06   \n",
       "75%    202009.000000  1.983177e+06  5.000000e+04      94.000000  1.451981e+07   \n",
       "max    202108.000000  1.868772e+09  6.500000e+07  166876.000000  8.963513e+09   \n",
       "\n",
       "          VAR2_prom       VAR2_trx      VAR3_sum     VAR3_prom       VAR3_trx  \\\n",
       "count  1.035680e+05  103568.000000  2.604090e+05  2.604090e+05  260409.000000   \n",
       "mean   6.520918e+05      23.943602  1.399666e+07  3.946341e+06       7.577353   \n",
       "std    2.161094e+06      15.473855  4.396866e+07  1.643295e+07      16.789980   \n",
       "min    0.000000e+00       1.000000  1.075000e+03  1.075000e+03       1.000000   \n",
       "25%    9.828600e+04      15.000000  8.108000e+05  2.977310e+05       1.000000   \n",
       "50%    2.316305e+05      21.000000  3.183369e+06  8.191150e+05       3.000000   \n",
       "75%    5.806338e+05      36.000000  1.154832e+07  2.520723e+06       7.000000   \n",
       "max    3.538261e+08     459.000000  5.173952e+09  2.093000e+09     779.000000   \n",
       "\n",
       "       ...     VAR28_sum    VAR28_prom     VAR28_trx    VAR30_prom  \\\n",
       "count  ...  5.778900e+04  5.778900e+04  57789.000000  2.806730e+05   \n",
       "mean   ...  8.404618e+07  4.718607e+07      1.662496  2.358463e+06   \n",
       "std    ...  2.459439e+08  1.072808e+08      1.522047  4.126634e+06   \n",
       "min    ...  0.000000e+00  0.000000e+00      1.000000  1.000000e+00   \n",
       "25%    ...  5.483250e+05  4.148080e+05      1.000000  4.076810e+05   \n",
       "50%    ...  1.833259e+07  1.234856e+07      1.000000  1.000000e+06   \n",
       "75%    ...  8.005697e+07  5.023172e+07      2.000000  2.500000e+06   \n",
       "max    ...  5.715734e+09  3.820489e+09     28.000000  1.464218e+08   \n",
       "\n",
       "         VAR30_ratio     target_mes     Sum_total       MAX_Sum  \\\n",
       "count  280673.000000  799645.000000  7.996450e+05  7.996450e+05   \n",
       "mean        0.046442      41.689772  1.420491e+08  8.889393e+07   \n",
       "std         0.210508     107.614320  9.133779e+08  8.783098e+08   \n",
       "min         0.000000       0.000000  2.018110e+05  2.018110e+05   \n",
       "25%         0.000000       2.860000  7.829468e+06  4.591873e+06   \n",
       "50%         0.000000      12.780000  3.387054e+07  1.741661e+07   \n",
       "75%         0.000000      39.750000  1.152457e+08  5.944105e+07   \n",
       "max         3.000000    7723.360000  1.727214e+11  1.725000e+11   \n",
       "\n",
       "       Sum_trx_total        MAX_trx  \n",
       "count  799645.000000  799645.000000  \n",
       "mean       61.117139      44.501916  \n",
       "std       418.188715     408.479550  \n",
       "min         0.000000       0.000000  \n",
       "25%         4.000000       3.000000  \n",
       "50%        15.000000       9.000000  \n",
       "75%        51.000000      30.000000  \n",
       "max    167692.000000  166876.000000  \n",
       "\n",
       "[8 rows x 66 columns]"
      ]
     },
     "execution_count": 11,
     "metadata": {},
     "output_type": "execute_result"
    }
   ],
   "source": [
    "train.describe()"
   ]
  },
  {
   "cell_type": "markdown",
   "id": "0e85410d",
   "metadata": {},
   "source": [
    "## Outliers.\n",
    "Ahora vamos a trabajar los outliers.\n",
    "Para una mayor seguridad graficamos los boxplots de las variables."
   ]
  },
  {
   "cell_type": "code",
   "execution_count": 12,
   "id": "5c3e0c7b",
   "metadata": {
    "scrolled": true
   },
   "outputs": [
    {
     "data": {
      "image/png": "[encoded data removed]",
      "text/plain": [
       "<Figure size 1080x720 with 10 Axes>"
      ]
     },
     "metadata": {},
     "output_type": "display_data"
    }
   ],
   "source": [
    "sns.set()\n",
    "plt.figure(figsize=(15,10))\n",
    "plt.suptitle(\"Boxplots de las Variables\")\n",
    "plt.subplot(3,4,1)\n",
    "sns.boxplot(x=train[\"target_mes\"],color=\"r\");plt.title(\"Boxplot target_mes\");plt.xlabel(\"target_mes\")\n",
    "plt.subplot(3,4,2)\n",
    "sns.histplot(x=train[\"target_mes\"],bins=10,color=\"r\",kde=True);plt.title(\"Distribucion de target_mes\")\n",
    "plt.subplot(3,4,3)\n",
    "sns.boxplot(x=train[\"Sum_total\"],color=\"green\");plt.title(\"Boxplot Sum_total\");plt.xlabel(\"Sum_total\")\n",
    "plt.subplot(3,4,4)\n",
    "sns.histplot(x=train[\"Sum_total\"],bins=10,color=\"green\",kde=True);plt.title(\"Distribucion de Sum_total\")\n",
    "plt.subplot(3,4,5)\n",
    "sns.boxplot(x=train[\"Sum_trx_total\"],color=\"orange\");plt.title(\"Boxplot Sum_trx_total\");plt.xlabel(\"Sum_trx_total\")\n",
    "plt.subplot(3,4,6)\n",
    "sns.histplot(x=train[\"Sum_trx_total\"],bins=10,color=\"orange\",kde=True);plt.title(\"Distribucion de Sum_trx_total\")\n",
    "plt.subplot(3,4,7)\n",
    "sns.boxplot(x=train[\"MAX_trx\"],color=\"grey\");plt.title(\"Boxplot MAX_trx\");plt.xlabel(\"MAX_trx\")\n",
    "plt.subplot(3,4,8)\n",
    "sns.histplot(x=train[\"MAX_trx\"],bins=10,color=\"grey\",kde=True);plt.title(\"Distribucion de MAX_trx\")\n",
    "plt.subplot(3,4,9)\n",
    "sns.boxplot(x=train[\"MAX_Sum\"],color=\"magenta\");plt.title(\"Boxplot MAX_Sum\");plt.xlabel(\"MAX_Sum\")\n",
    "plt.subplot(3,4,10)\n",
    "sns.histplot(x=train[\"MAX_Sum\"],bins=10,color=\"magenta\",kde=True);plt.title(\"Distribucion de MAX_Sum\")\n",
    "plt.show()"
   ]
  },
  {
   "cell_type": "markdown",
   "id": "bcfa32d9",
   "metadata": {},
   "source": [
    "Empezamos con \"target_mes\" donde calculamos el rango inter cuartil y los bigotes superior e inferior para poder filtrar los outliers.\n",
    "\n",
    "Observamos que el bigote superior es de 95 metros.\n",
    "\n",
    "A su vez vemos que el bigote inferior es negativo por lo que no filtraremos."
   ]
  },
  {
   "cell_type": "code",
   "execution_count": 13,
   "id": "f56c853e",
   "metadata": {},
   "outputs": [
    {
     "name": "stdout",
     "output_type": "stream",
     "text": [
      "BI_target_mes: -52.475\n",
      "BS_target_mes: 95.08500000000001\n"
     ]
    }
   ],
   "source": [
    "Q1_target=train[\"target_mes\"].quantile(0.25)\n",
    "Q3_target=train[\"target_mes\"].quantile(0.75)\n",
    "IQR=Q3_target-Q1_target\n",
    "BI_target=(Q1_target-1.5*IQR)\n",
    "BS_target=(Q3_target+1.5*IQR)\n",
    "print(\"BI_target_mes:\",BI_target)\n",
    "print(\"BS_target_mes:\",BS_target)"
   ]
  },
  {
   "cell_type": "markdown",
   "id": "8bf73ec3",
   "metadata": {},
   "source": [
    "Solo filtramos por target_mes menores a 380, 4 desviaciones standar para no filtrar mucho y seguir trabajando con la mayor cantidad de instancias posibles."
   ]
  },
  {
   "cell_type": "code",
   "execution_count": 14,
   "id": "95a638b8",
   "metadata": {},
   "outputs": [
    {
     "name": "stdout",
     "output_type": "stream",
     "text": [
      "(789557, 72)\n"
     ]
    }
   ],
   "source": [
    "train=train[(train[\"target_mes\"])<=380]\n",
    "print(train.shape)"
   ]
  },
  {
   "cell_type": "markdown",
   "id": "b9750c8a",
   "metadata": {},
   "source": [
    "Seguimos con \"Sum_total\""
   ]
  },
  {
   "cell_type": "code",
   "execution_count": 15,
   "id": "801fd6d2",
   "metadata": {},
   "outputs": [
    {
     "name": "stdout",
     "output_type": "stream",
     "text": [
      "BI_Sum_total: -147234076.815\n",
      "BS_Sum_total: 265835829.065\n"
     ]
    }
   ],
   "source": [
    "Q1_Sum_total=train[\"Sum_total\"].quantile(0.25)\n",
    "Q3_Sum_total=train[\"Sum_total\"].quantile(0.75)\n",
    "IQR=Q3_Sum_total-Q1_Sum_total\n",
    "BI_Sum_total=(Q1_Sum_total-1.5*IQR)\n",
    "BS_Sum_total=(Q3_Sum_total+1.5*IQR)\n",
    "print(\"BI_Sum_total:\",BI_Sum_total)\n",
    "print(\"BS_Sum_total:\",BS_Sum_total)"
   ]
  },
  {
   "cell_type": "markdown",
   "id": "06dc0d0a",
   "metadata": {},
   "source": [
    "Solo filtramos por Sum_total menores a 398753743 $, 1.5 desviaciones standar para no filtrar mucho y seguir trabajando con la mayor cantidad de instancias posibles."
   ]
  },
  {
   "cell_type": "code",
   "execution_count": 16,
   "id": "ab501916",
   "metadata": {},
   "outputs": [
    {
     "name": "stdout",
     "output_type": "stream",
     "text": [
      "(737947, 72)\n"
     ]
    }
   ],
   "source": [
    "train=train[(train[\"Sum_total\"])<=398753743]\n",
    "print(train.shape)"
   ]
  },
  {
   "cell_type": "markdown",
   "id": "b26fa001",
   "metadata": {},
   "source": [
    "Seguimos con \"Sum_trx_total\""
   ]
  },
  {
   "cell_type": "code",
   "execution_count": 17,
   "id": "e4ca295c",
   "metadata": {},
   "outputs": [
    {
     "name": "stdout",
     "output_type": "stream",
     "text": [
      "BI_Sum_trx_total: -57.5\n",
      "BS_Sum_trx_total: 106.5\n"
     ]
    }
   ],
   "source": [
    "Q1_Sum_trx_total=train[\"Sum_trx_total\"].quantile(0.25)\n",
    "Q3_Sum_trx_total=train[\"Sum_trx_total\"].quantile(0.75)\n",
    "IQR=Q3_Sum_trx_total-Q1_Sum_trx_total\n",
    "BI_Sum_trx_total=(Q1_Sum_trx_total-1.5*IQR)\n",
    "BS_Sum_trx_total=(Q3_Sum_trx_total+1.5*IQR)\n",
    "print(\"BI_Sum_trx_total:\",BI_Sum_trx_total)\n",
    "print(\"BS_Sum_trx_total:\",BS_Sum_trx_total)"
   ]
  },
  {
   "cell_type": "markdown",
   "id": "7fa5f8b0",
   "metadata": {},
   "source": [
    "Solo filtramos por Sum_trx_total menores a 160 $, 1.5 desviaciones standar para no filtrar mucho y seguir trabajando con la mayor cantidad de instancias posibles."
   ]
  },
  {
   "cell_type": "code",
   "execution_count": 18,
   "id": "ae07a088",
   "metadata": {},
   "outputs": [
    {
     "name": "stdout",
     "output_type": "stream",
     "text": [
      "(689671, 72)\n"
     ]
    }
   ],
   "source": [
    "train=train[(train[\"Sum_trx_total\"])<=160]\n",
    "print(train.shape)"
   ]
  },
  {
   "cell_type": "code",
   "execution_count": 19,
   "id": "3aa7f051",
   "metadata": {
    "scrolled": true
   },
   "outputs": [
    {
     "data": {
      "image/png": "[encoded data removed]",
      "text/plain": [
       "<Figure size 1080x720 with 10 Axes>"
      ]
     },
     "metadata": {},
     "output_type": "display_data"
    }
   ],
   "source": [
    "sns.set()\n",
    "plt.figure(figsize=(15,10))\n",
    "plt.suptitle(\"Boxplots de las Variables\")\n",
    "plt.subplot(3,4,1)\n",
    "sns.boxplot(x=train[\"target_mes\"],color=\"r\");plt.title(\"Boxplot target_mes\");plt.xlabel(\"target_mes\")\n",
    "plt.subplot(3,4,2)\n",
    "sns.histplot(x=train[\"target_mes\"],bins=10,color=\"r\",kde=True);plt.title(\"Distribucion de target_mes\")\n",
    "plt.subplot(3,4,3)\n",
    "sns.boxplot(x=train[\"Sum_total\"],color=\"green\");plt.title(\"Boxplot Sum_total\");plt.xlabel(\"Sum_total\")\n",
    "plt.subplot(3,4,4)\n",
    "sns.histplot(x=train[\"Sum_total\"],bins=10,color=\"green\",kde=True);plt.title(\"Distribucion de Sum_total\")\n",
    "plt.subplot(3,4,5)\n",
    "sns.boxplot(x=train[\"Sum_trx_total\"],color=\"orange\");plt.title(\"Boxplot Sum_trx_total\");plt.xlabel(\"Sum_trx_total\")\n",
    "plt.subplot(3,4,6)\n",
    "sns.histplot(x=train[\"Sum_trx_total\"],bins=10,color=\"orange\",kde=True);plt.title(\"Distribucion de Sum_trx_total\")\n",
    "plt.subplot(3,4,7)\n",
    "sns.boxplot(x=train[\"MAX_trx\"],color=\"grey\");plt.title(\"Boxplot MAX_trx\");plt.xlabel(\"MAX_trx\")\n",
    "plt.subplot(3,4,8)\n",
    "sns.histplot(x=train[\"MAX_trx\"],bins=10,color=\"grey\",kde=True);plt.title(\"Distribucion de MAX_trx\")\n",
    "plt.subplot(3,4,9)\n",
    "sns.boxplot(x=train[\"MAX_Sum\"],color=\"magenta\");plt.title(\"Boxplot MAX_Sum\");plt.xlabel(\"MAX_Sum\")\n",
    "plt.subplot(3,4,10)\n",
    "sns.histplot(x=train[\"MAX_Sum\"],bins=10,color=\"magenta\",kde=True);plt.title(\"Distribucion de MAX_Sum\")\n",
    "plt.show()"
   ]
  },
  {
   "cell_type": "markdown",
   "id": "10ea6680",
   "metadata": {},
   "source": [
    "Observamos que en las variables el trabajo que realizamos sobre los outliers fueron adecuados podemos distinguir los cuartiles y la mediana en los boxplots como tambien los bigotes Inferiores y superiores, si bien vemos que aun quedan algunos, no consideramos que tengamos que seguir filtrando para no seguir perdiendo instancias.\n",
    "Se puede observar que en los histogramas ya la distribucion es mas consistente.  "
   ]
  },
  {
   "cell_type": "code",
   "execution_count": 20,
   "id": "ca8fc771",
   "metadata": {},
   "outputs": [
    {
     "data": {
      "text/html": [
       "<div>\n",
       "<style scoped>\n",
       "    .dataframe tbody tr th:only-of-type {\n",
       "        vertical-align: middle;\n",
       "    }\n",
       "\n",
       "    .dataframe tbody tr th {\n",
       "        vertical-align: top;\n",
       "    }\n",
       "\n",
       "    .dataframe thead th {\n",
       "        text-align: right;\n",
       "    }\n",
       "</style>\n",
       "<table border=\"1\" class=\"dataframe\">\n",
       "  <thead>\n",
       "    <tr style=\"text-align: right;\">\n",
       "      <th></th>\n",
       "      <th>mes</th>\n",
       "      <th>VAR1_sum</th>\n",
       "      <th>VAR1_prom</th>\n",
       "      <th>VAR1_trx</th>\n",
       "      <th>VAR2_sum</th>\n",
       "      <th>VAR2_prom</th>\n",
       "      <th>VAR2_trx</th>\n",
       "      <th>VAR3_sum</th>\n",
       "      <th>VAR3_prom</th>\n",
       "      <th>VAR3_trx</th>\n",
       "      <th>...</th>\n",
       "      <th>VAR28_sum</th>\n",
       "      <th>VAR28_prom</th>\n",
       "      <th>VAR28_trx</th>\n",
       "      <th>VAR30_prom</th>\n",
       "      <th>VAR30_ratio</th>\n",
       "      <th>target_mes</th>\n",
       "      <th>Sum_total</th>\n",
       "      <th>MAX_Sum</th>\n",
       "      <th>Sum_trx_total</th>\n",
       "      <th>MAX_trx</th>\n",
       "    </tr>\n",
       "  </thead>\n",
       "  <tbody>\n",
       "    <tr>\n",
       "      <th>count</th>\n",
       "      <td>689671.000000</td>\n",
       "      <td>1.151000e+05</td>\n",
       "      <td>1.151000e+05</td>\n",
       "      <td>115100.000000</td>\n",
       "      <td>7.086400e+04</td>\n",
       "      <td>7.086400e+04</td>\n",
       "      <td>70864.000000</td>\n",
       "      <td>2.088020e+05</td>\n",
       "      <td>2.088020e+05</td>\n",
       "      <td>208802.000000</td>\n",
       "      <td>...</td>\n",
       "      <td>4.116500e+04</td>\n",
       "      <td>4.116500e+04</td>\n",
       "      <td>41165.000000</td>\n",
       "      <td>2.460330e+05</td>\n",
       "      <td>246033.000000</td>\n",
       "      <td>689671.000000</td>\n",
       "      <td>6.896710e+05</td>\n",
       "      <td>6.896710e+05</td>\n",
       "      <td>689671.000000</td>\n",
       "      <td>689671.000000</td>\n",
       "    </tr>\n",
       "    <tr>\n",
       "      <th>mean</th>\n",
       "      <td>201970.294633</td>\n",
       "      <td>8.394862e+05</td>\n",
       "      <td>7.728183e+04</td>\n",
       "      <td>28.508766</td>\n",
       "      <td>5.827604e+06</td>\n",
       "      <td>3.044674e+05</td>\n",
       "      <td>20.439574</td>\n",
       "      <td>8.994194e+06</td>\n",
       "      <td>3.151460e+06</td>\n",
       "      <td>5.331156</td>\n",
       "      <td>...</td>\n",
       "      <td>3.634347e+07</td>\n",
       "      <td>2.481141e+07</td>\n",
       "      <td>1.533439</td>\n",
       "      <td>2.077231e+06</td>\n",
       "      <td>0.046303</td>\n",
       "      <td>25.859928</td>\n",
       "      <td>5.968470e+07</td>\n",
       "      <td>3.272607e+07</td>\n",
       "      <td>25.979168</td>\n",
       "      <td>16.342643</td>\n",
       "    </tr>\n",
       "    <tr>\n",
       "      <th>std</th>\n",
       "      <td>77.873160</td>\n",
       "      <td>1.471682e+06</td>\n",
       "      <td>3.420684e+05</td>\n",
       "      <td>31.452277</td>\n",
       "      <td>8.340384e+06</td>\n",
       "      <td>5.238587e+05</td>\n",
       "      <td>12.511789</td>\n",
       "      <td>1.852844e+07</td>\n",
       "      <td>8.958299e+06</td>\n",
       "      <td>8.404750</td>\n",
       "      <td>...</td>\n",
       "      <td>5.773687e+07</td>\n",
       "      <td>4.048713e+07</td>\n",
       "      <td>1.286098</td>\n",
       "      <td>3.605227e+06</td>\n",
       "      <td>0.210218</td>\n",
       "      <td>43.596608</td>\n",
       "      <td>8.087132e+07</td>\n",
       "      <td>4.834397e+07</td>\n",
       "      <td>33.915663</td>\n",
       "      <td>22.674927</td>\n",
       "    </tr>\n",
       "    <tr>\n",
       "      <th>min</th>\n",
       "      <td>201811.000000</td>\n",
       "      <td>1.000000e+00</td>\n",
       "      <td>1.000000e+00</td>\n",
       "      <td>1.000000</td>\n",
       "      <td>0.000000e+00</td>\n",
       "      <td>0.000000e+00</td>\n",
       "      <td>1.000000</td>\n",
       "      <td>1.075000e+03</td>\n",
       "      <td>1.075000e+03</td>\n",
       "      <td>1.000000</td>\n",
       "      <td>...</td>\n",
       "      <td>0.000000e+00</td>\n",
       "      <td>0.000000e+00</td>\n",
       "      <td>1.000000</td>\n",
       "      <td>1.000000e+00</td>\n",
       "      <td>0.000000</td>\n",
       "      <td>0.000000</td>\n",
       "      <td>2.018110e+05</td>\n",
       "      <td>2.018110e+05</td>\n",
       "      <td>0.000000</td>\n",
       "      <td>0.000000</td>\n",
       "    </tr>\n",
       "    <tr>\n",
       "      <th>25%</th>\n",
       "      <td>201907.000000</td>\n",
       "      <td>1.584480e+05</td>\n",
       "      <td>1.135000e+04</td>\n",
       "      <td>5.000000</td>\n",
       "      <td>9.961560e+05</td>\n",
       "      <td>7.563725e+04</td>\n",
       "      <td>10.000000</td>\n",
       "      <td>7.259798e+05</td>\n",
       "      <td>2.933250e+05</td>\n",
       "      <td>1.000000</td>\n",
       "      <td>...</td>\n",
       "      <td>2.786860e+05</td>\n",
       "      <td>2.206340e+05</td>\n",
       "      <td>1.000000</td>\n",
       "      <td>3.764100e+05</td>\n",
       "      <td>0.000000</td>\n",
       "      <td>2.170000</td>\n",
       "      <td>6.056772e+06</td>\n",
       "      <td>3.608747e+06</td>\n",
       "      <td>3.000000</td>\n",
       "      <td>2.000000</td>\n",
       "    </tr>\n",
       "    <tr>\n",
       "      <th>50%</th>\n",
       "      <td>202002.000000</td>\n",
       "      <td>4.302750e+05</td>\n",
       "      <td>2.473600e+04</td>\n",
       "      <td>16.000000</td>\n",
       "      <td>3.105112e+06</td>\n",
       "      <td>1.592360e+05</td>\n",
       "      <td>21.000000</td>\n",
       "      <td>2.662340e+06</td>\n",
       "      <td>7.877530e+05</td>\n",
       "      <td>2.000000</td>\n",
       "      <td>...</td>\n",
       "      <td>1.070193e+07</td>\n",
       "      <td>7.776122e+06</td>\n",
       "      <td>1.000000</td>\n",
       "      <td>9.758700e+05</td>\n",
       "      <td>0.000000</td>\n",
       "      <td>10.170000</td>\n",
       "      <td>2.527646e+07</td>\n",
       "      <td>1.320000e+07</td>\n",
       "      <td>12.000000</td>\n",
       "      <td>7.000000</td>\n",
       "    </tr>\n",
       "    <tr>\n",
       "      <th>75%</th>\n",
       "      <td>202009.000000</td>\n",
       "      <td>1.000000e+06</td>\n",
       "      <td>5.665500e+04</td>\n",
       "      <td>42.000000</td>\n",
       "      <td>7.408336e+06</td>\n",
       "      <td>3.385252e+05</td>\n",
       "      <td>30.000000</td>\n",
       "      <td>8.874532e+06</td>\n",
       "      <td>2.365104e+06</td>\n",
       "      <td>6.000000</td>\n",
       "      <td>...</td>\n",
       "      <td>4.842679e+07</td>\n",
       "      <td>3.236920e+07</td>\n",
       "      <td>2.000000</td>\n",
       "      <td>2.305344e+06</td>\n",
       "      <td>0.000000</td>\n",
       "      <td>29.170000</td>\n",
       "      <td>7.870246e+07</td>\n",
       "      <td>4.041225e+07</td>\n",
       "      <td>35.000000</td>\n",
       "      <td>21.000000</td>\n",
       "    </tr>\n",
       "    <tr>\n",
       "      <th>max</th>\n",
       "      <td>202108.000000</td>\n",
       "      <td>1.618650e+08</td>\n",
       "      <td>4.500000e+07</td>\n",
       "      <td>160.000000</td>\n",
       "      <td>2.939233e+08</td>\n",
       "      <td>2.239405e+07</td>\n",
       "      <td>110.000000</td>\n",
       "      <td>3.900000e+08</td>\n",
       "      <td>3.900000e+08</td>\n",
       "      <td>141.000000</td>\n",
       "      <td>...</td>\n",
       "      <td>3.965384e+08</td>\n",
       "      <td>3.953574e+08</td>\n",
       "      <td>28.000000</td>\n",
       "      <td>1.464218e+08</td>\n",
       "      <td>3.000000</td>\n",
       "      <td>379.970000</td>\n",
       "      <td>3.987505e+08</td>\n",
       "      <td>3.980124e+08</td>\n",
       "      <td>160.000000</td>\n",
       "      <td>160.000000</td>\n",
       "    </tr>\n",
       "  </tbody>\n",
       "</table>\n",
       "<p>8 rows × 66 columns</p>\n",
       "</div>"
      ],
      "text/plain": [
       "                 mes      VAR1_sum     VAR1_prom       VAR1_trx      VAR2_sum  \\\n",
       "count  689671.000000  1.151000e+05  1.151000e+05  115100.000000  7.086400e+04   \n",
       "mean   201970.294633  8.394862e+05  7.728183e+04      28.508766  5.827604e+06   \n",
       "std        77.873160  1.471682e+06  3.420684e+05      31.452277  8.340384e+06   \n",
       "min    201811.000000  1.000000e+00  1.000000e+00       1.000000  0.000000e+00   \n",
       "25%    201907.000000  1.584480e+05  1.135000e+04       5.000000  9.961560e+05   \n",
       "50%    202002.000000  4.302750e+05  2.473600e+04      16.000000  3.105112e+06   \n",
       "75%    202009.000000  1.000000e+06  5.665500e+04      42.000000  7.408336e+06   \n",
       "max    202108.000000  1.618650e+08  4.500000e+07     160.000000  2.939233e+08   \n",
       "\n",
       "          VAR2_prom      VAR2_trx      VAR3_sum     VAR3_prom       VAR3_trx  \\\n",
       "count  7.086400e+04  70864.000000  2.088020e+05  2.088020e+05  208802.000000   \n",
       "mean   3.044674e+05     20.439574  8.994194e+06  3.151460e+06       5.331156   \n",
       "std    5.238587e+05     12.511789  1.852844e+07  8.958299e+06       8.404750   \n",
       "min    0.000000e+00      1.000000  1.075000e+03  1.075000e+03       1.000000   \n",
       "25%    7.563725e+04     10.000000  7.259798e+05  2.933250e+05       1.000000   \n",
       "50%    1.592360e+05     21.000000  2.662340e+06  7.877530e+05       2.000000   \n",
       "75%    3.385252e+05     30.000000  8.874532e+06  2.365104e+06       6.000000   \n",
       "max    2.239405e+07    110.000000  3.900000e+08  3.900000e+08     141.000000   \n",
       "\n",
       "       ...     VAR28_sum    VAR28_prom     VAR28_trx    VAR30_prom  \\\n",
       "count  ...  4.116500e+04  4.116500e+04  41165.000000  2.460330e+05   \n",
       "mean   ...  3.634347e+07  2.481141e+07      1.533439  2.077231e+06   \n",
       "std    ...  5.773687e+07  4.048713e+07      1.286098  3.605227e+06   \n",
       "min    ...  0.000000e+00  0.000000e+00      1.000000  1.000000e+00   \n",
       "25%    ...  2.786860e+05  2.206340e+05      1.000000  3.764100e+05   \n",
       "50%    ...  1.070193e+07  7.776122e+06      1.000000  9.758700e+05   \n",
       "75%    ...  4.842679e+07  3.236920e+07      2.000000  2.305344e+06   \n",
       "max    ...  3.965384e+08  3.953574e+08     28.000000  1.464218e+08   \n",
       "\n",
       "         VAR30_ratio     target_mes     Sum_total       MAX_Sum  \\\n",
       "count  246033.000000  689671.000000  6.896710e+05  6.896710e+05   \n",
       "mean        0.046303      25.859928  5.968470e+07  3.272607e+07   \n",
       "std         0.210218      43.596608  8.087132e+07  4.834397e+07   \n",
       "min         0.000000       0.000000  2.018110e+05  2.018110e+05   \n",
       "25%         0.000000       2.170000  6.056772e+06  3.608747e+06   \n",
       "50%         0.000000      10.170000  2.527646e+07  1.320000e+07   \n",
       "75%         0.000000      29.170000  7.870246e+07  4.041225e+07   \n",
       "max         3.000000     379.970000  3.987505e+08  3.980124e+08   \n",
       "\n",
       "       Sum_trx_total        MAX_trx  \n",
       "count  689671.000000  689671.000000  \n",
       "mean       25.979168      16.342643  \n",
       "std        33.915663      22.674927  \n",
       "min         0.000000       0.000000  \n",
       "25%         3.000000       2.000000  \n",
       "50%        12.000000       7.000000  \n",
       "75%        35.000000      21.000000  \n",
       "max       160.000000     160.000000  \n",
       "\n",
       "[8 rows x 66 columns]"
      ]
     },
     "execution_count": 20,
     "metadata": {},
     "output_type": "execute_result"
    }
   ],
   "source": [
    "train.describe()"
   ]
  },
  {
   "cell_type": "markdown",
   "id": "50b701a7",
   "metadata": {},
   "source": [
    "# **Transformaciones de las columnas Dtype \"Object\".**"
   ]
  },
  {
   "cell_type": "code",
   "execution_count": 21,
   "id": "00cc38a5",
   "metadata": {},
   "outputs": [
    {
     "data": {
      "text/plain": [
       "array(['PROD1', 'PROD1/PROD3', 'PROD1/PROD2', 'PROD1/PROD4', 'SINPROD',\n",
       "       'NO PROD3', 'PROD4', 'MULTIPROD', 'PROD2', 'PROD2/PROD4',\n",
       "       'NO PROD4', 'PROD3', 'NO PROD2', 'PROD3/PROD4', 'PROD3/PROD2',\n",
       "       'NO PROD1'], dtype=object)"
      ]
     },
     "execution_count": 21,
     "metadata": {},
     "output_type": "execute_result"
    }
   ],
   "source": [
    "train['tipo_seg'].unique()"
   ]
  },
  {
   "cell_type": "code",
   "execution_count": 22,
   "id": "b093901f",
   "metadata": {},
   "outputs": [],
   "source": [
    "train['tipo_seg'].replace(['PROD1', \n",
    "                          'PROD4',\n",
    "                          'PROD2',\n",
    "                          'PROD3',\n",
    "                          'PROD1/PROD3', \n",
    "                          'PROD1/PROD2',\n",
    "                          'PROD3/PROD4',\n",
    "                          'PROD3/PROD2',\n",
    "                          'PROD1/PROD4',       \n",
    "                          'PROD2/PROD4',\n",
    "                          'MULTIPROD',\n",
    "                          'NO PROD4',\n",
    "                          'NO PROD3',\n",
    "                          'NO PROD2',\n",
    "                          'NO PROD1',\n",
    "                          'SINPROD',\n",
    "                          ]\n",
    "                          ,[1,1,1,1,2,2,2,2,2,2,2,3,3,3,3,0],inplace=True)"
   ]
  },
  {
   "cell_type": "code",
   "execution_count": 23,
   "id": "da58a255",
   "metadata": {
    "scrolled": false
   },
   "outputs": [
    {
     "data": {
      "text/plain": [
       "array([1, 2, 0, 3], dtype=int64)"
      ]
     },
     "execution_count": 23,
     "metadata": {},
     "output_type": "execute_result"
    }
   ],
   "source": [
    "train['tipo_seg'].unique()"
   ]
  },
  {
   "cell_type": "code",
   "execution_count": 24,
   "id": "f88247e8",
   "metadata": {
    "scrolled": true
   },
   "outputs": [
    {
     "data": {
      "text/plain": [
       "count    689671.000000\n",
       "mean         25.859928\n",
       "std          43.596608\n",
       "min           0.000000\n",
       "25%           2.170000\n",
       "50%          10.170000\n",
       "75%          29.170000\n",
       "max         379.970000\n",
       "Name: target_mes, dtype: float64"
      ]
     },
     "execution_count": 24,
     "metadata": {},
     "output_type": "execute_result"
    }
   ],
   "source": [
    "train['target_mes'].describe()"
   ]
  },
  {
   "cell_type": "markdown",
   "id": "d34b64ec",
   "metadata": {},
   "source": [
    "Agrupamos por tipo_cat y target_mes, donde ordenados de mayor a menor en importe de target notamos que podemos transformar los en valores de 1 a 3  de manera balanceada  donde 1 es el de menor target y 3 el de mayor, para darle su importacia."
   ]
  },
  {
   "cell_type": "code",
   "execution_count": 25,
   "id": "818931a1",
   "metadata": {},
   "outputs": [
    {
     "data": {
      "text/plain": [
       "tipo_cat\n",
       "RUBRO8     49.016237\n",
       "RUBRO18    43.346131\n",
       "RUBRO12    41.521676\n",
       "RUBRO15    35.933540\n",
       "RUBRO20    34.179610\n",
       "RUBRO3     32.696138\n",
       "RUBRO11    32.243787\n",
       "RUBRO7     30.648328\n",
       "RUBRO13    28.648295\n",
       "RUBRO19    27.746606\n",
       "RUBRO2     25.322820\n",
       "RUBRO16    25.079363\n",
       "RUBRO17    24.704643\n",
       "RUBRO6     23.841902\n",
       "RUBRO5     23.331058\n",
       "RUBRO10    20.816891\n",
       "RUBRO4     19.603872\n",
       "RUBRO9     19.469393\n",
       "RUBRO1     17.107922\n",
       "RUBRO21    12.229423\n",
       "RUBRO14     9.874788\n",
       "Name: target_mes, dtype: float64"
      ]
     },
     "execution_count": 25,
     "metadata": {},
     "output_type": "execute_result"
    }
   ],
   "source": [
    "train.groupby(['tipo_cat'])['target_mes'].mean().sort_values(ascending=False)"
   ]
  },
  {
   "cell_type": "code",
   "execution_count": 26,
   "id": "7ad0bba9",
   "metadata": {},
   "outputs": [],
   "source": [
    "def cat (fila):\n",
    "    if fila <= 5 :\n",
    "        return 1 \n",
    "    elif fila <= 20 :\n",
    "        return 2\n",
    "    else:  \n",
    "        return 3\n",
    "\n",
    "train[\"new_cat\"] = train[\"target_mes\"].map(cat)"
   ]
  },
  {
   "cell_type": "code",
   "execution_count": 27,
   "id": "d47e9890",
   "metadata": {},
   "outputs": [
    {
     "data": {
      "text/plain": [
       "array([2, 1, 3], dtype=int64)"
      ]
     },
     "execution_count": 27,
     "metadata": {},
     "output_type": "execute_result"
    }
   ],
   "source": [
    "train['new_cat'].unique()"
   ]
  },
  {
   "cell_type": "code",
   "execution_count": 28,
   "id": "23290466",
   "metadata": {},
   "outputs": [
    {
     "data": {
      "text/plain": [
       "(689671, 73)"
      ]
     },
     "execution_count": 28,
     "metadata": {},
     "output_type": "execute_result"
    }
   ],
   "source": [
    "train.shape"
   ]
  },
  {
   "cell_type": "code",
   "execution_count": 29,
   "id": "3d9df176",
   "metadata": {},
   "outputs": [],
   "source": [
    "train.drop(['tipo_cat'], axis='columns', inplace = True)"
   ]
  },
  {
   "cell_type": "code",
   "execution_count": 30,
   "id": "d859535a",
   "metadata": {
    "scrolled": true
   },
   "outputs": [
    {
     "data": {
      "image/png": "[encoded data removed]",
      "text/plain": [
       "<Figure size 432x288 with 1 Axes>"
      ]
     },
     "metadata": {},
     "output_type": "display_data"
    }
   ],
   "source": [
    "sns.countplot(x=\"new_cat\",data=train)\n",
    "plt.show()"
   ]
  },
  {
   "cell_type": "markdown",
   "id": "38800256",
   "metadata": {},
   "source": [
    "Aqui la transformacion la realizamos teniendo en cuenta el valor promedio del Target_mes por cada tipo_com y el recuento de instancias correspondientes a cada tipo_com, como se muestra se podria decir que son inversamente proporcionales por lo que transformaremos esta variable categorica en numerica siguendo esta observacion y de modo que queden lo mejor posible balanceadas."
   ]
  },
  {
   "cell_type": "code",
   "execution_count": 31,
   "id": "a55aa66c",
   "metadata": {},
   "outputs": [
    {
     "data": {
      "text/plain": [
       "tipo_com\n",
       "COM5    87.704325\n",
       "COM4    55.852039\n",
       "COM3    28.875428\n",
       "COM2    16.843692\n",
       "COM1    10.564512\n",
       "Name: target_mes, dtype: float64"
      ]
     },
     "execution_count": 31,
     "metadata": {},
     "output_type": "execute_result"
    }
   ],
   "source": [
    "train.groupby(['tipo_com'])['target_mes'].mean().sort_values(ascending=False)"
   ]
  },
  {
   "cell_type": "code",
   "execution_count": 32,
   "id": "cba6c428",
   "metadata": {},
   "outputs": [
    {
     "data": {
      "text/plain": [
       "COM2    243667\n",
       "COM3    172442\n",
       "COM1    158431\n",
       "COM4     94812\n",
       "COM5     20319\n",
       "Name: tipo_com, dtype: int64"
      ]
     },
     "execution_count": 32,
     "metadata": {},
     "output_type": "execute_result"
    }
   ],
   "source": [
    "train['tipo_com'].value_counts()"
   ]
  },
  {
   "cell_type": "code",
   "execution_count": 33,
   "id": "9c4755c4",
   "metadata": {},
   "outputs": [],
   "source": [
    "train['tipo_com'].replace(['COM2','COM3','COM1','COM4','COM5']\n",
    "                          ,[1,2,3,4,4],inplace=True)"
   ]
  },
  {
   "cell_type": "code",
   "execution_count": 34,
   "id": "4b193884",
   "metadata": {
    "scrolled": false
   },
   "outputs": [
    {
     "data": {
      "image/png": "[encoded data removed]",
      "text/plain": [
       "<Figure size 432x288 with 1 Axes>"
      ]
     },
     "metadata": {},
     "output_type": "display_data"
    }
   ],
   "source": [
    "sns.countplot(x=\"tipo_com\",data=train)\n",
    "plt.show()"
   ]
  },
  {
   "cell_type": "markdown",
   "id": "d8854fbf",
   "metadata": {},
   "source": [
    "Con respencto a la variables categorica tipo de cliente notamos que el desbalanceo es muy grande de un tipo de cliente a otro, 83% clientes tipo 1 (CLI1) Y 17% clientes tipo 2 (CLI2).\n",
    "Lo que creemos que este enorme desbalanceo favorecela a CLI1 de tal manera  que sera mejor que eliminemos esta variable ya que si ponemos todo en CLI1 es lo mismo que no este. Ademas la diferencia es muy grande como para balancearla con algun otro metodo."
   ]
  },
  {
   "cell_type": "code",
   "execution_count": 35,
   "id": "0b67e8de",
   "metadata": {},
   "outputs": [
    {
     "data": {
      "image/png": "[encoded data removed]",
      "text/plain": [
       "<Figure size 432x288 with 1 Axes>"
      ]
     },
     "metadata": {},
     "output_type": "display_data"
    }
   ],
   "source": [
    "sns.countplot(x=\"tipo_cli\",data=train)\n",
    "plt.show()"
   ]
  },
  {
   "cell_type": "code",
   "execution_count": 36,
   "id": "c0df34fa",
   "metadata": {},
   "outputs": [
    {
     "data": {
      "text/plain": [
       "CLI1    573753\n",
       "CLI2    115918\n",
       "Name: tipo_cli, dtype: int64"
      ]
     },
     "execution_count": 36,
     "metadata": {},
     "output_type": "execute_result"
    }
   ],
   "source": [
    "train['tipo_cli'].value_counts()"
   ]
  },
  {
   "cell_type": "code",
   "execution_count": 37,
   "id": "1e1fe13e",
   "metadata": {},
   "outputs": [],
   "source": [
    "train.drop(['tipo_cli'], axis='columns', inplace = True)"
   ]
  },
  {
   "cell_type": "markdown",
   "id": "fc6ec9fe",
   "metadata": {},
   "source": [
    "Notamos que aqui siguiendo el mismo principio que en la variables \"tipo_com\" no se da lo que concluimos como inversamente proporcionalidad por lo que al ser dificil encontrar un patron, haremos one hot encoding."
   ]
  },
  {
   "cell_type": "code",
   "execution_count": 38,
   "id": "fc35f105",
   "metadata": {},
   "outputs": [
    {
     "data": {
      "text/plain": [
       "array(['V6', 'V4', 'V2', 'V3', 'V5', 'V1'], dtype=object)"
      ]
     },
     "execution_count": 38,
     "metadata": {},
     "output_type": "execute_result"
    }
   ],
   "source": [
    "train['categoria'].unique()"
   ]
  },
  {
   "cell_type": "code",
   "execution_count": 39,
   "id": "eab82e0b",
   "metadata": {},
   "outputs": [
    {
     "data": {
      "text/plain": [
       "categoria\n",
       "V3    54.657052\n",
       "V5    47.699079\n",
       "V1    43.234216\n",
       "V2    28.130303\n",
       "V6    18.518834\n",
       "V4    17.128729\n",
       "Name: target_mes, dtype: float64"
      ]
     },
     "execution_count": 39,
     "metadata": {},
     "output_type": "execute_result"
    }
   ],
   "source": [
    "train.groupby(['categoria'])['target_mes'].mean().sort_values(ascending=False)"
   ]
  },
  {
   "cell_type": "code",
   "execution_count": 40,
   "id": "166ee733",
   "metadata": {},
   "outputs": [
    {
     "data": {
      "text/plain": [
       "V2    371734\n",
       "V4    165220\n",
       "V6     99963\n",
       "V3     26690\n",
       "V5     24859\n",
       "V1      1205\n",
       "Name: categoria, dtype: int64"
      ]
     },
     "execution_count": 40,
     "metadata": {},
     "output_type": "execute_result"
    }
   ],
   "source": [
    "train['categoria'].value_counts()"
   ]
  },
  {
   "cell_type": "code",
   "execution_count": 41,
   "id": "ff5fd853",
   "metadata": {},
   "outputs": [],
   "source": [
    "cat=pd.get_dummies(train[\"categoria\"],prefix=\"dummy\")\n",
    "train=pd.concat([train,cat],axis=1)"
   ]
  },
  {
   "cell_type": "markdown",
   "id": "bc64ac87",
   "metadata": {},
   "source": [
    "Eliminamos todas las variables que no vamos a utilizar las cuales son las mismas que explicamos al inicio y por lo cual generamos las nuevas variables."
   ]
  },
  {
   "cell_type": "code",
   "execution_count": 42,
   "id": "a3180511",
   "metadata": {},
   "outputs": [],
   "source": [
    "train.drop(['VAR1_sum','categoria','id',\n",
    "       'VAR1_prom', 'VAR1_trx', 'VAR2_sum', 'VAR2_prom', 'VAR2_trx',\n",
    "       'VAR3_sum', 'VAR3_prom', 'VAR3_trx', 'VAR4_sum', 'VAR4_prom',\n",
    "       'VAR4_trx', 'VAR5_sum', 'VAR5_prom', 'VAR5_trx', 'VAR6_sum',\n",
    "       'VAR6_prom', 'VAR6_trx', 'VAR7_sum', 'VAR7_prom', 'VAR7_trx',\n",
    "       'VAR8_sum', 'VAR8_prom', 'VAR8_trx', 'VAR9_sum', 'VAR9_prom',\n",
    "       'VAR9_trx', 'VAR10_sum', 'VAR11_sum', 'VAR12_sum', 'VAR13_sum',\n",
    "       'VAR14_sum', 'VAR15_sum', 'VAR16_sum', 'VAR17_sum', 'VAR18_sum',\n",
    "       'VAR19_sum', 'VAR20_sum', 'VAR21_sum', 'VAR22_sum', 'VAR23_sum',\n",
    "       'VAR23_prom', 'VAR23_trx', 'VAR24_sum', 'VAR24_prom', 'VAR24_trx',\n",
    "       'VAR25_sum', 'VAR25_prom', 'VAR25_trx', 'VAR26_sum', 'VAR26_prom',\n",
    "       'VAR26_trx', 'VAR27_sum', 'VAR27_prom', 'VAR27_trx', 'VAR28_sum',\n",
    "       'VAR28_prom', 'VAR28_trx', 'VAR30_prom', 'VAR30_ratio'], axis='columns', inplace = True)"
   ]
  },
  {
   "cell_type": "code",
   "execution_count": 43,
   "id": "687f2365",
   "metadata": {},
   "outputs": [
    {
     "data": {
      "text/plain": [
       "Index(['mes', 'tipo_seg', 'tipo_com', 'target_mes', 'Sum_total', 'MAX_Sum',\n",
       "       'Sum_trx_total', 'MAX_trx', 'new_cat', 'dummy_V1', 'dummy_V2',\n",
       "       'dummy_V3', 'dummy_V4', 'dummy_V5', 'dummy_V6'],\n",
       "      dtype='object')"
      ]
     },
     "execution_count": 43,
     "metadata": {},
     "output_type": "execute_result"
    }
   ],
   "source": [
    "train.columns"
   ]
  },
  {
   "cell_type": "code",
   "execution_count": 44,
   "id": "2de63aa5",
   "metadata": {
    "scrolled": true
   },
   "outputs": [
    {
     "data": {
      "text/html": [
       "<div>\n",
       "<style scoped>\n",
       "    .dataframe tbody tr th:only-of-type {\n",
       "        vertical-align: middle;\n",
       "    }\n",
       "\n",
       "    .dataframe tbody tr th {\n",
       "        vertical-align: top;\n",
       "    }\n",
       "\n",
       "    .dataframe thead th {\n",
       "        text-align: right;\n",
       "    }\n",
       "</style>\n",
       "<table border=\"1\" class=\"dataframe\">\n",
       "  <thead>\n",
       "    <tr style=\"text-align: right;\">\n",
       "      <th></th>\n",
       "      <th>mes</th>\n",
       "      <th>tipo_seg</th>\n",
       "      <th>tipo_com</th>\n",
       "      <th>target_mes</th>\n",
       "      <th>Sum_total</th>\n",
       "      <th>MAX_Sum</th>\n",
       "      <th>Sum_trx_total</th>\n",
       "      <th>MAX_trx</th>\n",
       "      <th>new_cat</th>\n",
       "      <th>dummy_V1</th>\n",
       "      <th>dummy_V2</th>\n",
       "      <th>dummy_V3</th>\n",
       "      <th>dummy_V4</th>\n",
       "      <th>dummy_V5</th>\n",
       "      <th>dummy_V6</th>\n",
       "    </tr>\n",
       "  </thead>\n",
       "  <tbody>\n",
       "    <tr>\n",
       "      <th>0</th>\n",
       "      <td>201811</td>\n",
       "      <td>1</td>\n",
       "      <td>1</td>\n",
       "      <td>11.86</td>\n",
       "      <td>95455087.86</td>\n",
       "      <td>47209730.0</td>\n",
       "      <td>1.0</td>\n",
       "      <td>1.0</td>\n",
       "      <td>2</td>\n",
       "      <td>0</td>\n",
       "      <td>0</td>\n",
       "      <td>0</td>\n",
       "      <td>0</td>\n",
       "      <td>0</td>\n",
       "      <td>1</td>\n",
       "    </tr>\n",
       "    <tr>\n",
       "      <th>1</th>\n",
       "      <td>201811</td>\n",
       "      <td>2</td>\n",
       "      <td>2</td>\n",
       "      <td>18.58</td>\n",
       "      <td>21141810.58</td>\n",
       "      <td>10239169.0</td>\n",
       "      <td>145.0</td>\n",
       "      <td>92.0</td>\n",
       "      <td>2</td>\n",
       "      <td>0</td>\n",
       "      <td>0</td>\n",
       "      <td>0</td>\n",
       "      <td>0</td>\n",
       "      <td>0</td>\n",
       "      <td>1</td>\n",
       "    </tr>\n",
       "    <tr>\n",
       "      <th>2</th>\n",
       "      <td>201811</td>\n",
       "      <td>1</td>\n",
       "      <td>1</td>\n",
       "      <td>3.92</td>\n",
       "      <td>12718084.92</td>\n",
       "      <td>4920076.0</td>\n",
       "      <td>19.0</td>\n",
       "      <td>11.0</td>\n",
       "      <td>1</td>\n",
       "      <td>0</td>\n",
       "      <td>0</td>\n",
       "      <td>0</td>\n",
       "      <td>0</td>\n",
       "      <td>0</td>\n",
       "      <td>1</td>\n",
       "    </tr>\n",
       "    <tr>\n",
       "      <th>3</th>\n",
       "      <td>201811</td>\n",
       "      <td>2</td>\n",
       "      <td>2</td>\n",
       "      <td>25.75</td>\n",
       "      <td>80920367.75</td>\n",
       "      <td>30643382.0</td>\n",
       "      <td>12.0</td>\n",
       "      <td>11.0</td>\n",
       "      <td>3</td>\n",
       "      <td>0</td>\n",
       "      <td>0</td>\n",
       "      <td>0</td>\n",
       "      <td>0</td>\n",
       "      <td>0</td>\n",
       "      <td>1</td>\n",
       "    </tr>\n",
       "    <tr>\n",
       "      <th>4</th>\n",
       "      <td>201811</td>\n",
       "      <td>2</td>\n",
       "      <td>2</td>\n",
       "      <td>19.58</td>\n",
       "      <td>90222456.58</td>\n",
       "      <td>34485374.0</td>\n",
       "      <td>42.0</td>\n",
       "      <td>11.0</td>\n",
       "      <td>2</td>\n",
       "      <td>0</td>\n",
       "      <td>0</td>\n",
       "      <td>0</td>\n",
       "      <td>1</td>\n",
       "      <td>0</td>\n",
       "      <td>0</td>\n",
       "    </tr>\n",
       "  </tbody>\n",
       "</table>\n",
       "</div>"
      ],
      "text/plain": [
       "      mes  tipo_seg  tipo_com  target_mes    Sum_total     MAX_Sum  \\\n",
       "0  201811         1         1       11.86  95455087.86  47209730.0   \n",
       "1  201811         2         2       18.58  21141810.58  10239169.0   \n",
       "2  201811         1         1        3.92  12718084.92   4920076.0   \n",
       "3  201811         2         2       25.75  80920367.75  30643382.0   \n",
       "4  201811         2         2       19.58  90222456.58  34485374.0   \n",
       "\n",
       "   Sum_trx_total  MAX_trx  new_cat  dummy_V1  dummy_V2  dummy_V3  dummy_V4  \\\n",
       "0            1.0      1.0        2         0         0         0         0   \n",
       "1          145.0     92.0        2         0         0         0         0   \n",
       "2           19.0     11.0        1         0         0         0         0   \n",
       "3           12.0     11.0        3         0         0         0         0   \n",
       "4           42.0     11.0        2         0         0         0         1   \n",
       "\n",
       "   dummy_V5  dummy_V6  \n",
       "0         0         1  \n",
       "1         0         1  \n",
       "2         0         1  \n",
       "3         0         1  \n",
       "4         0         0  "
      ]
     },
     "execution_count": 44,
     "metadata": {},
     "output_type": "execute_result"
    }
   ],
   "source": [
    "train.head()"
   ]
  },
  {
   "cell_type": "code",
   "execution_count": 45,
   "id": "925c5623",
   "metadata": {},
   "outputs": [
    {
     "data": {
      "text/plain": [
       "mes              0\n",
       "tipo_seg         0\n",
       "tipo_com         0\n",
       "target_mes       0\n",
       "Sum_total        0\n",
       "MAX_Sum          0\n",
       "Sum_trx_total    0\n",
       "MAX_trx          0\n",
       "new_cat          0\n",
       "dummy_V1         0\n",
       "dummy_V2         0\n",
       "dummy_V3         0\n",
       "dummy_V4         0\n",
       "dummy_V5         0\n",
       "dummy_V6         0\n",
       "dtype: int64"
      ]
     },
     "execution_count": 45,
     "metadata": {},
     "output_type": "execute_result"
    }
   ],
   "source": [
    "train.isna().sum()"
   ]
  },
  {
   "cell_type": "markdown",
   "id": "74b603ad",
   "metadata": {},
   "source": [
    "Como todas las instancia corresponden a un periodo mensual determinado de los diferentes clientes y solo enuncian mes y año vamos a separar en dos columnas mes y año dejando las como un objeto entero para que los modelos lo tomen."
   ]
  },
  {
   "cell_type": "code",
   "execution_count": 46,
   "id": "c1dbb6a7",
   "metadata": {},
   "outputs": [],
   "source": [
    "def año_col ( fila):\n",
    "        Resul= fila[\"mes\"][ :-2]\n",
    "        return Resul\n",
    "def mes_col ( fila):\n",
    "        Resul= fila[\"mes\"][4:7]\n",
    "        return Resul"
   ]
  },
  {
   "cell_type": "code",
   "execution_count": 47,
   "id": "1172804e",
   "metadata": {},
   "outputs": [],
   "source": [
    "train.mes = train.mes.astype(str)"
   ]
  },
  {
   "cell_type": "code",
   "execution_count": 48,
   "id": "cb4d96c3",
   "metadata": {},
   "outputs": [],
   "source": [
    "train[\"año\"]=train.apply(año_col, axis=1)\n",
    "train[\"n_mes\"]=train.apply(mes_col, axis=1)"
   ]
  },
  {
   "cell_type": "code",
   "execution_count": 49,
   "id": "f10fe9e7",
   "metadata": {},
   "outputs": [],
   "source": [
    "train.año = train.año.astype(int)\n",
    "train.n_mes = train.n_mes.astype(int)"
   ]
  },
  {
   "cell_type": "code",
   "execution_count": 50,
   "id": "01003930",
   "metadata": {},
   "outputs": [],
   "source": [
    "train.drop([ 'mes'], axis='columns', inplace = True)"
   ]
  },
  {
   "cell_type": "code",
   "execution_count": 51,
   "id": "54b2a513",
   "metadata": {
    "scrolled": false
   },
   "outputs": [
    {
     "data": {
      "text/html": [
       "<div>\n",
       "<style scoped>\n",
       "    .dataframe tbody tr th:only-of-type {\n",
       "        vertical-align: middle;\n",
       "    }\n",
       "\n",
       "    .dataframe tbody tr th {\n",
       "        vertical-align: top;\n",
       "    }\n",
       "\n",
       "    .dataframe thead th {\n",
       "        text-align: right;\n",
       "    }\n",
       "</style>\n",
       "<table border=\"1\" class=\"dataframe\">\n",
       "  <thead>\n",
       "    <tr style=\"text-align: right;\">\n",
       "      <th></th>\n",
       "      <th>tipo_seg</th>\n",
       "      <th>tipo_com</th>\n",
       "      <th>target_mes</th>\n",
       "      <th>Sum_total</th>\n",
       "      <th>MAX_Sum</th>\n",
       "      <th>Sum_trx_total</th>\n",
       "      <th>MAX_trx</th>\n",
       "      <th>new_cat</th>\n",
       "      <th>dummy_V1</th>\n",
       "      <th>dummy_V2</th>\n",
       "      <th>dummy_V3</th>\n",
       "      <th>dummy_V4</th>\n",
       "      <th>dummy_V5</th>\n",
       "      <th>dummy_V6</th>\n",
       "      <th>año</th>\n",
       "      <th>n_mes</th>\n",
       "    </tr>\n",
       "  </thead>\n",
       "  <tbody>\n",
       "    <tr>\n",
       "      <th>0</th>\n",
       "      <td>1</td>\n",
       "      <td>1</td>\n",
       "      <td>11.86</td>\n",
       "      <td>95455087.86</td>\n",
       "      <td>47209730.0</td>\n",
       "      <td>1.0</td>\n",
       "      <td>1.0</td>\n",
       "      <td>2</td>\n",
       "      <td>0</td>\n",
       "      <td>0</td>\n",
       "      <td>0</td>\n",
       "      <td>0</td>\n",
       "      <td>0</td>\n",
       "      <td>1</td>\n",
       "      <td>2018</td>\n",
       "      <td>11</td>\n",
       "    </tr>\n",
       "    <tr>\n",
       "      <th>1</th>\n",
       "      <td>2</td>\n",
       "      <td>2</td>\n",
       "      <td>18.58</td>\n",
       "      <td>21141810.58</td>\n",
       "      <td>10239169.0</td>\n",
       "      <td>145.0</td>\n",
       "      <td>92.0</td>\n",
       "      <td>2</td>\n",
       "      <td>0</td>\n",
       "      <td>0</td>\n",
       "      <td>0</td>\n",
       "      <td>0</td>\n",
       "      <td>0</td>\n",
       "      <td>1</td>\n",
       "      <td>2018</td>\n",
       "      <td>11</td>\n",
       "    </tr>\n",
       "    <tr>\n",
       "      <th>2</th>\n",
       "      <td>1</td>\n",
       "      <td>1</td>\n",
       "      <td>3.92</td>\n",
       "      <td>12718084.92</td>\n",
       "      <td>4920076.0</td>\n",
       "      <td>19.0</td>\n",
       "      <td>11.0</td>\n",
       "      <td>1</td>\n",
       "      <td>0</td>\n",
       "      <td>0</td>\n",
       "      <td>0</td>\n",
       "      <td>0</td>\n",
       "      <td>0</td>\n",
       "      <td>1</td>\n",
       "      <td>2018</td>\n",
       "      <td>11</td>\n",
       "    </tr>\n",
       "    <tr>\n",
       "      <th>3</th>\n",
       "      <td>2</td>\n",
       "      <td>2</td>\n",
       "      <td>25.75</td>\n",
       "      <td>80920367.75</td>\n",
       "      <td>30643382.0</td>\n",
       "      <td>12.0</td>\n",
       "      <td>11.0</td>\n",
       "      <td>3</td>\n",
       "      <td>0</td>\n",
       "      <td>0</td>\n",
       "      <td>0</td>\n",
       "      <td>0</td>\n",
       "      <td>0</td>\n",
       "      <td>1</td>\n",
       "      <td>2018</td>\n",
       "      <td>11</td>\n",
       "    </tr>\n",
       "    <tr>\n",
       "      <th>4</th>\n",
       "      <td>2</td>\n",
       "      <td>2</td>\n",
       "      <td>19.58</td>\n",
       "      <td>90222456.58</td>\n",
       "      <td>34485374.0</td>\n",
       "      <td>42.0</td>\n",
       "      <td>11.0</td>\n",
       "      <td>2</td>\n",
       "      <td>0</td>\n",
       "      <td>0</td>\n",
       "      <td>0</td>\n",
       "      <td>1</td>\n",
       "      <td>0</td>\n",
       "      <td>0</td>\n",
       "      <td>2018</td>\n",
       "      <td>11</td>\n",
       "    </tr>\n",
       "  </tbody>\n",
       "</table>\n",
       "</div>"
      ],
      "text/plain": [
       "   tipo_seg  tipo_com  target_mes    Sum_total     MAX_Sum  Sum_trx_total  \\\n",
       "0         1         1       11.86  95455087.86  47209730.0            1.0   \n",
       "1         2         2       18.58  21141810.58  10239169.0          145.0   \n",
       "2         1         1        3.92  12718084.92   4920076.0           19.0   \n",
       "3         2         2       25.75  80920367.75  30643382.0           12.0   \n",
       "4         2         2       19.58  90222456.58  34485374.0           42.0   \n",
       "\n",
       "   MAX_trx  new_cat  dummy_V1  dummy_V2  dummy_V3  dummy_V4  dummy_V5  \\\n",
       "0      1.0        2         0         0         0         0         0   \n",
       "1     92.0        2         0         0         0         0         0   \n",
       "2     11.0        1         0         0         0         0         0   \n",
       "3     11.0        3         0         0         0         0         0   \n",
       "4     11.0        2         0         0         0         1         0   \n",
       "\n",
       "   dummy_V6   año  n_mes  \n",
       "0         1  2018     11  \n",
       "1         1  2018     11  \n",
       "2         1  2018     11  \n",
       "3         1  2018     11  \n",
       "4         0  2018     11  "
      ]
     },
     "execution_count": 51,
     "metadata": {},
     "output_type": "execute_result"
    }
   ],
   "source": [
    "train.head()"
   ]
  },
  {
   "cell_type": "code",
   "execution_count": 52,
   "id": "4e2b67cc",
   "metadata": {},
   "outputs": [],
   "source": [
    "train_2 = train.copy()"
   ]
  },
  {
   "cell_type": "code",
   "execution_count": 53,
   "id": "ba9b11a9",
   "metadata": {
    "scrolled": false
   },
   "outputs": [
    {
     "name": "stdout",
     "output_type": "stream",
     "text": [
      "(689671, 16)\n"
     ]
    },
    {
     "data": {
      "text/plain": [
       "tipo_seg         0\n",
       "tipo_com         0\n",
       "target_mes       0\n",
       "Sum_total        0\n",
       "MAX_Sum          0\n",
       "Sum_trx_total    0\n",
       "MAX_trx          0\n",
       "new_cat          0\n",
       "dummy_V1         0\n",
       "dummy_V2         0\n",
       "dummy_V3         0\n",
       "dummy_V4         0\n",
       "dummy_V5         0\n",
       "dummy_V6         0\n",
       "año              0\n",
       "n_mes            0\n",
       "dtype: int64"
      ]
     },
     "execution_count": 53,
     "metadata": {},
     "output_type": "execute_result"
    }
   ],
   "source": [
    "print(train_2.shape)\n",
    "train_2.isna().sum()"
   ]
  },
  {
   "cell_type": "markdown",
   "id": "58ee6119",
   "metadata": {},
   "source": [
    "**Escalado de datos.**\n",
    "\n",
    "Escalamos todas las columnas salvo las columnas a las cuales se le hizo dummy y a \"target_mes\" que es nuestra variable target y queremos que mantenga su escala para mas adelante poder interpretar las metricas."
   ]
  },
  {
   "cell_type": "code",
   "execution_count": 54,
   "id": "b3911907",
   "metadata": {},
   "outputs": [],
   "source": [
    "from sklearn.preprocessing import StandardScaler"
   ]
  },
  {
   "cell_type": "code",
   "execution_count": 55,
   "id": "c4621168",
   "metadata": {},
   "outputs": [
    {
     "data": {
      "text/plain": [
       "StandardScaler()"
      ]
     },
     "execution_count": 55,
     "metadata": {},
     "output_type": "execute_result"
    }
   ],
   "source": [
    "scaler = StandardScaler()\n",
    "scaler.fit(train_2[[\"tipo_seg\",\"tipo_com\",\"Sum_total\",\"MAX_Sum\",\"Sum_trx_total\",\"MAX_trx\",\"año\",\"n_mes\",\"new_cat\" ]])\n"
   ]
  },
  {
   "cell_type": "code",
   "execution_count": 56,
   "id": "9ef1b9e2",
   "metadata": {},
   "outputs": [],
   "source": [
    "train_2[[\"tipo_seg\",\"tipo_com\",\"Sum_total\",\"MAX_Sum\",\"Sum_trx_total\",\"MAX_trx\",\"año\",\"n_mes\",\"new_cat\"]]=scaler.transform(train_2[[\"tipo_seg\",\"tipo_com\",\"Sum_total\",\"MAX_Sum\",\"Sum_trx_total\",\"MAX_trx\",\"año\",\"n_mes\",\"new_cat\"]])   "
   ]
  },
  {
   "cell_type": "code",
   "execution_count": 57,
   "id": "45f47f13",
   "metadata": {},
   "outputs": [
    {
     "data": {
      "text/html": [
       "<div>\n",
       "<style scoped>\n",
       "    .dataframe tbody tr th:only-of-type {\n",
       "        vertical-align: middle;\n",
       "    }\n",
       "\n",
       "    .dataframe tbody tr th {\n",
       "        vertical-align: top;\n",
       "    }\n",
       "\n",
       "    .dataframe thead th {\n",
       "        text-align: right;\n",
       "    }\n",
       "</style>\n",
       "<table border=\"1\" class=\"dataframe\">\n",
       "  <thead>\n",
       "    <tr style=\"text-align: right;\">\n",
       "      <th></th>\n",
       "      <th>tipo_seg</th>\n",
       "      <th>tipo_com</th>\n",
       "      <th>target_mes</th>\n",
       "      <th>Sum_total</th>\n",
       "      <th>MAX_Sum</th>\n",
       "      <th>Sum_trx_total</th>\n",
       "      <th>MAX_trx</th>\n",
       "      <th>new_cat</th>\n",
       "      <th>dummy_V1</th>\n",
       "      <th>dummy_V2</th>\n",
       "      <th>dummy_V3</th>\n",
       "      <th>dummy_V4</th>\n",
       "      <th>dummy_V5</th>\n",
       "      <th>dummy_V6</th>\n",
       "      <th>año</th>\n",
       "      <th>n_mes</th>\n",
       "    </tr>\n",
       "  </thead>\n",
       "  <tbody>\n",
       "    <tr>\n",
       "      <th>count</th>\n",
       "      <td>6.896710e+05</td>\n",
       "      <td>6.896710e+05</td>\n",
       "      <td>689671.000000</td>\n",
       "      <td>6.896710e+05</td>\n",
       "      <td>6.896710e+05</td>\n",
       "      <td>6.896710e+05</td>\n",
       "      <td>6.896710e+05</td>\n",
       "      <td>6.896710e+05</td>\n",
       "      <td>689671.000000</td>\n",
       "      <td>689671.000000</td>\n",
       "      <td>689671.000000</td>\n",
       "      <td>689671.000000</td>\n",
       "      <td>689671.000000</td>\n",
       "      <td>689671.000000</td>\n",
       "      <td>6.896710e+05</td>\n",
       "      <td>6.896710e+05</td>\n",
       "    </tr>\n",
       "    <tr>\n",
       "      <th>mean</th>\n",
       "      <td>8.784093e-14</td>\n",
       "      <td>-1.256872e-13</td>\n",
       "      <td>25.859928</td>\n",
       "      <td>1.874920e-15</td>\n",
       "      <td>-8.748037e-16</td>\n",
       "      <td>1.107817e-14</td>\n",
       "      <td>-1.107922e-13</td>\n",
       "      <td>-3.993764e-13</td>\n",
       "      <td>0.001747</td>\n",
       "      <td>0.539002</td>\n",
       "      <td>0.038700</td>\n",
       "      <td>0.239564</td>\n",
       "      <td>0.036045</td>\n",
       "      <td>0.144943</td>\n",
       "      <td>-1.680064e-12</td>\n",
       "      <td>2.784808e-14</td>\n",
       "    </tr>\n",
       "    <tr>\n",
       "      <th>std</th>\n",
       "      <td>1.000001e+00</td>\n",
       "      <td>1.000001e+00</td>\n",
       "      <td>43.596608</td>\n",
       "      <td>1.000001e+00</td>\n",
       "      <td>1.000001e+00</td>\n",
       "      <td>1.000001e+00</td>\n",
       "      <td>1.000001e+00</td>\n",
       "      <td>1.000001e+00</td>\n",
       "      <td>0.041763</td>\n",
       "      <td>0.498477</td>\n",
       "      <td>0.192878</td>\n",
       "      <td>0.426817</td>\n",
       "      <td>0.186402</td>\n",
       "      <td>0.352044</td>\n",
       "      <td>1.000001e+00</td>\n",
       "      <td>1.000001e+00</td>\n",
       "    </tr>\n",
       "    <tr>\n",
       "      <th>min</th>\n",
       "      <td>-1.356525e+00</td>\n",
       "      <td>-1.101827e+00</td>\n",
       "      <td>0.000000</td>\n",
       "      <td>-7.355257e-01</td>\n",
       "      <td>-6.727682e-01</td>\n",
       "      <td>-7.659938e-01</td>\n",
       "      <td>-7.207368e-01</td>\n",
       "      <td>-1.183025e+00</td>\n",
       "      <td>0.000000</td>\n",
       "      <td>0.000000</td>\n",
       "      <td>0.000000</td>\n",
       "      <td>0.000000</td>\n",
       "      <td>0.000000</td>\n",
       "      <td>0.000000</td>\n",
       "      <td>-2.066694e+00</td>\n",
       "      <td>-1.457650e+00</td>\n",
       "    </tr>\n",
       "    <tr>\n",
       "      <th>25%</th>\n",
       "      <td>-3.325206e-01</td>\n",
       "      <td>-1.101827e+00</td>\n",
       "      <td>2.170000</td>\n",
       "      <td>-6.631272e-01</td>\n",
       "      <td>-6.022953e-01</td>\n",
       "      <td>-6.775390e-01</td>\n",
       "      <td>-6.325336e-01</td>\n",
       "      <td>-1.183025e+00</td>\n",
       "      <td>0.000000</td>\n",
       "      <td>0.000000</td>\n",
       "      <td>0.000000</td>\n",
       "      <td>0.000000</td>\n",
       "      <td>0.000000</td>\n",
       "      <td>0.000000</td>\n",
       "      <td>-8.065222e-01</td>\n",
       "      <td>-9.069366e-01</td>\n",
       "    </tr>\n",
       "    <tr>\n",
       "      <th>50%</th>\n",
       "      <td>-3.325206e-01</td>\n",
       "      <td>-1.914390e-01</td>\n",
       "      <td>10.170000</td>\n",
       "      <td>-4.254693e-01</td>\n",
       "      <td>-4.038991e-01</td>\n",
       "      <td>-4.121747e-01</td>\n",
       "      <td>-4.120256e-01</td>\n",
       "      <td>2.229686e-02</td>\n",
       "      <td>0.000000</td>\n",
       "      <td>1.000000</td>\n",
       "      <td>0.000000</td>\n",
       "      <td>0.000000</td>\n",
       "      <td>0.000000</td>\n",
       "      <td>0.000000</td>\n",
       "      <td>4.536500e-01</td>\n",
       "      <td>-8.086725e-02</td>\n",
       "    </tr>\n",
       "    <tr>\n",
       "      <th>75%</th>\n",
       "      <td>6.914835e-01</td>\n",
       "      <td>7.189491e-01</td>\n",
       "      <td>29.170000</td>\n",
       "      <td>2.351610e-01</td>\n",
       "      <td>1.589896e-01</td>\n",
       "      <td>2.659785e-01</td>\n",
       "      <td>2.053969e-01</td>\n",
       "      <td>1.227619e+00</td>\n",
       "      <td>0.000000</td>\n",
       "      <td>1.000000</td>\n",
       "      <td>0.000000</td>\n",
       "      <td>0.000000</td>\n",
       "      <td>0.000000</td>\n",
       "      <td>0.000000</td>\n",
       "      <td>4.536500e-01</td>\n",
       "      <td>1.020559e+00</td>\n",
       "    </tr>\n",
       "    <tr>\n",
       "      <th>max</th>\n",
       "      <td>1.715487e+00</td>\n",
       "      <td>1.629337e+00</td>\n",
       "      <td>379.970000</td>\n",
       "      <td>4.192661e+00</td>\n",
       "      <td>7.555991e+00</td>\n",
       "      <td>3.951594e+00</td>\n",
       "      <td>6.335520e+00</td>\n",
       "      <td>1.227619e+00</td>\n",
       "      <td>1.000000</td>\n",
       "      <td>1.000000</td>\n",
       "      <td>1.000000</td>\n",
       "      <td>1.000000</td>\n",
       "      <td>1.000000</td>\n",
       "      <td>1.000000</td>\n",
       "      <td>1.713822e+00</td>\n",
       "      <td>1.571272e+00</td>\n",
       "    </tr>\n",
       "  </tbody>\n",
       "</table>\n",
       "</div>"
      ],
      "text/plain": [
       "           tipo_seg      tipo_com     target_mes     Sum_total       MAX_Sum  \\\n",
       "count  6.896710e+05  6.896710e+05  689671.000000  6.896710e+05  6.896710e+05   \n",
       "mean   8.784093e-14 -1.256872e-13      25.859928  1.874920e-15 -8.748037e-16   \n",
       "std    1.000001e+00  1.000001e+00      43.596608  1.000001e+00  1.000001e+00   \n",
       "min   -1.356525e+00 -1.101827e+00       0.000000 -7.355257e-01 -6.727682e-01   \n",
       "25%   -3.325206e-01 -1.101827e+00       2.170000 -6.631272e-01 -6.022953e-01   \n",
       "50%   -3.325206e-01 -1.914390e-01      10.170000 -4.254693e-01 -4.038991e-01   \n",
       "75%    6.914835e-01  7.189491e-01      29.170000  2.351610e-01  1.589896e-01   \n",
       "max    1.715487e+00  1.629337e+00     379.970000  4.192661e+00  7.555991e+00   \n",
       "\n",
       "       Sum_trx_total       MAX_trx       new_cat       dummy_V1  \\\n",
       "count   6.896710e+05  6.896710e+05  6.896710e+05  689671.000000   \n",
       "mean    1.107817e-14 -1.107922e-13 -3.993764e-13       0.001747   \n",
       "std     1.000001e+00  1.000001e+00  1.000001e+00       0.041763   \n",
       "min    -7.659938e-01 -7.207368e-01 -1.183025e+00       0.000000   \n",
       "25%    -6.775390e-01 -6.325336e-01 -1.183025e+00       0.000000   \n",
       "50%    -4.121747e-01 -4.120256e-01  2.229686e-02       0.000000   \n",
       "75%     2.659785e-01  2.053969e-01  1.227619e+00       0.000000   \n",
       "max     3.951594e+00  6.335520e+00  1.227619e+00       1.000000   \n",
       "\n",
       "            dummy_V2       dummy_V3       dummy_V4       dummy_V5  \\\n",
       "count  689671.000000  689671.000000  689671.000000  689671.000000   \n",
       "mean        0.539002       0.038700       0.239564       0.036045   \n",
       "std         0.498477       0.192878       0.426817       0.186402   \n",
       "min         0.000000       0.000000       0.000000       0.000000   \n",
       "25%         0.000000       0.000000       0.000000       0.000000   \n",
       "50%         1.000000       0.000000       0.000000       0.000000   \n",
       "75%         1.000000       0.000000       0.000000       0.000000   \n",
       "max         1.000000       1.000000       1.000000       1.000000   \n",
       "\n",
       "            dummy_V6           año         n_mes  \n",
       "count  689671.000000  6.896710e+05  6.896710e+05  \n",
       "mean        0.144943 -1.680064e-12  2.784808e-14  \n",
       "std         0.352044  1.000001e+00  1.000001e+00  \n",
       "min         0.000000 -2.066694e+00 -1.457650e+00  \n",
       "25%         0.000000 -8.065222e-01 -9.069366e-01  \n",
       "50%         0.000000  4.536500e-01 -8.086725e-02  \n",
       "75%         0.000000  4.536500e-01  1.020559e+00  \n",
       "max         1.000000  1.713822e+00  1.571272e+00  "
      ]
     },
     "execution_count": 57,
     "metadata": {},
     "output_type": "execute_result"
    }
   ],
   "source": [
    "train_2.describe()"
   ]
  },
  {
   "cell_type": "markdown",
   "id": "02d41169",
   "metadata": {},
   "source": [
    "## **Test Train split**"
   ]
  },
  {
   "cell_type": "code",
   "execution_count": 58,
   "id": "d77c11d8",
   "metadata": {},
   "outputs": [],
   "source": [
    "from sklearn.model_selection import train_test_split"
   ]
  },
  {
   "cell_type": "code",
   "execution_count": 59,
   "id": "fb0aa4b0",
   "metadata": {},
   "outputs": [],
   "source": [
    "X1=train_2[['Sum_total','Sum_trx_total',\"año\",\"n_mes\",\"tipo_seg\",\"tipo_com\",\"dummy_V1\",\"dummy_V2\",\"dummy_V3\",\"dummy_V4\",\"dummy_V5\",\"dummy_V6\",\"MAX_Sum\",\"MAX_trx\"]]\n",
    "y1=train_2[\"target_mes\"]"
   ]
  },
  {
   "cell_type": "code",
   "execution_count": 60,
   "id": "9a59ad90",
   "metadata": {},
   "outputs": [],
   "source": [
    "X_train,X_test,y_train,y_test=train_test_split(X1,y1,test_size=0.2, random_state=42)"
   ]
  },
  {
   "cell_type": "code",
   "execution_count": 61,
   "id": "a7db4f06",
   "metadata": {},
   "outputs": [
    {
     "name": "stdout",
     "output_type": "stream",
     "text": [
      "(551736, 14)\n"
     ]
    },
    {
     "data": {
      "text/plain": [
       "Sum_total        0\n",
       "Sum_trx_total    0\n",
       "año              0\n",
       "n_mes            0\n",
       "tipo_seg         0\n",
       "tipo_com         0\n",
       "dummy_V1         0\n",
       "dummy_V2         0\n",
       "dummy_V3         0\n",
       "dummy_V4         0\n",
       "dummy_V5         0\n",
       "dummy_V6         0\n",
       "MAX_Sum          0\n",
       "MAX_trx          0\n",
       "dtype: int64"
      ]
     },
     "execution_count": 61,
     "metadata": {},
     "output_type": "execute_result"
    }
   ],
   "source": [
    "print(X_train.shape)\n",
    "X_train.isna().sum()"
   ]
  },
  {
   "cell_type": "code",
   "execution_count": 62,
   "id": "ee425b9f",
   "metadata": {},
   "outputs": [
    {
     "name": "stdout",
     "output_type": "stream",
     "text": [
      "(137935, 14)\n"
     ]
    },
    {
     "data": {
      "text/plain": [
       "Sum_total        0\n",
       "Sum_trx_total    0\n",
       "año              0\n",
       "n_mes            0\n",
       "tipo_seg         0\n",
       "tipo_com         0\n",
       "dummy_V1         0\n",
       "dummy_V2         0\n",
       "dummy_V3         0\n",
       "dummy_V4         0\n",
       "dummy_V5         0\n",
       "dummy_V6         0\n",
       "MAX_Sum          0\n",
       "MAX_trx          0\n",
       "dtype: int64"
      ]
     },
     "execution_count": 62,
     "metadata": {},
     "output_type": "execute_result"
    }
   ],
   "source": [
    "print(X_test.shape)\n",
    "X_test.isna().sum()"
   ]
  },
  {
   "cell_type": "code",
   "execution_count": 63,
   "id": "6f7efa3a",
   "metadata": {},
   "outputs": [
    {
     "name": "stdout",
     "output_type": "stream",
     "text": [
      "(551736,)\n"
     ]
    },
    {
     "data": {
      "text/plain": [
       "0"
      ]
     },
     "execution_count": 63,
     "metadata": {},
     "output_type": "execute_result"
    }
   ],
   "source": [
    "print(y_train.shape)\n",
    "y_train.isna().sum()"
   ]
  },
  {
   "cell_type": "code",
   "execution_count": 64,
   "id": "c6298cf6",
   "metadata": {},
   "outputs": [
    {
     "name": "stdout",
     "output_type": "stream",
     "text": [
      "(137935,)\n"
     ]
    },
    {
     "data": {
      "text/plain": [
       "0"
      ]
     },
     "execution_count": 64,
     "metadata": {},
     "output_type": "execute_result"
    }
   ],
   "source": [
    "print(y_test.shape)\n",
    "y_test.isna().sum()"
   ]
  },
  {
   "cell_type": "markdown",
   "id": "39edeac3",
   "metadata": {},
   "source": [
    "##  **Modelamos**"
   ]
  },
  {
   "cell_type": "markdown",
   "id": "cf2c96ec",
   "metadata": {},
   "source": [
    "Utilizaremos tres modelos de regresion distintos y evaluaremos los resultados de las metricas seleccionadas (MAE y RMSE) para determinar el mejor modelo."
   ]
  },
  {
   "cell_type": "code",
   "execution_count": 65,
   "id": "85d5ebce",
   "metadata": {},
   "outputs": [],
   "source": [
    "from sklearn.ensemble import RandomForestRegressor\n",
    "from sklearn.model_selection import RandomizedSearchCV\n",
    "from sklearn.metrics import mean_squared_error\n",
    "from sklearn.metrics import mean_absolute_error\n",
    "from sklearn.metrics import r2_score\n",
    "from sklearn.ensemble import AdaBoostRegressor\n",
    "from sklearn.tree  import DecisionTreeRegressor"
   ]
  },
  {
   "cell_type": "markdown",
   "id": "68a84861",
   "metadata": {},
   "source": [
    "**MODELO RandomForestRegressor**"
   ]
  },
  {
   "cell_type": "code",
   "execution_count": 66,
   "id": "823ef726",
   "metadata": {},
   "outputs": [],
   "source": [
    "Model_RF=RandomForestRegressor()\n",
    "Model_RF.fit(X_train,y_train)\n",
    "\n",
    "Model_RFpredicion_test=Model_RF.predict(X_test)\n",
    "Model_RFpredicion_train=Model_RF.predict(X_train)"
   ]
  },
  {
   "cell_type": "code",
   "execution_count": 67,
   "id": "e0b6089f",
   "metadata": {
    "scrolled": true
   },
   "outputs": [
    {
     "name": "stdout",
     "output_type": "stream",
     "text": [
      "Modelo RandomForestRegressor- Sin Optimizacino de Hiperparametros-\n",
      " \n",
      "RMSE_Train: 13.74301050009728\n",
      "RMSE_test: 36.5274595165158\n",
      " \n",
      "MAE_Train: 7.658902414399636\n",
      "MAE_test: 20.34544917961813\n"
     ]
    }
   ],
   "source": [
    "print(\"Modelo RandomForestRegressor- Sin Optimizacino de Hiperparametros-\")\n",
    "print(\" \")\n",
    "print(\"RMSE_Train:\",mean_squared_error(y_train,Model_RFpredicion_train, squared=False))\n",
    "print(\"RMSE_test:\",mean_squared_error(y_test,Model_RFpredicion_test, squared=False))\n",
    "print(\" \")\n",
    "print(\"MAE_Train:\",mean_absolute_error(y_train,Model_RFpredicion_train))\n",
    "print(\"MAE_test:\",mean_absolute_error(y_test,Model_RFpredicion_test))"
   ]
  },
  {
   "cell_type": "markdown",
   "id": "6bea5d0a",
   "metadata": {},
   "source": [
    "Optimizamos lo hiperparametros a traves de un Ramdon Search CV."
   ]
  },
  {
   "cell_type": "code",
   "execution_count": 68,
   "id": "924f2e8c",
   "metadata": {},
   "outputs": [],
   "source": [
    "parametersRF={\"n_estimators\":[100,120,130,140],\n",
    "              \"max_depth\":[10,11,12],\n",
    "              \"max_features\":[8,10,12],\n",
    "              \"min_samples_split\":[2,3],\n",
    "              \"min_samples_leaf\":[1,2]}"
   ]
  },
  {
   "cell_type": "code",
   "execution_count": 69,
   "id": "8f865d0a",
   "metadata": {},
   "outputs": [],
   "source": [
    "ModelRF_OptHip=RandomForestRegressor()"
   ]
  },
  {
   "cell_type": "code",
   "execution_count": 70,
   "id": "e67110e4",
   "metadata": {},
   "outputs": [],
   "source": [
    "RF_RamdonSearchCV=RandomizedSearchCV(ModelRF_OptHip,parametersRF,scoring=\"neg_root_mean_squared_error\",n_jobs=-1,n_iter=30,cv= 5)"
   ]
  },
  {
   "cell_type": "code",
   "execution_count": 71,
   "id": "078b3c79",
   "metadata": {},
   "outputs": [],
   "source": [
    "FitRF_RamdonSearchCV=RF_RamdonSearchCV.fit(X_train,y_train)\n",
    "best_modelRF=FitRF_RamdonSearchCV.best_estimator_"
   ]
  },
  {
   "cell_type": "code",
   "execution_count": 72,
   "id": "e704d798",
   "metadata": {},
   "outputs": [
    {
     "data": {
      "text/plain": [
       "{'n_estimators': 130,\n",
       " 'min_samples_split': 3,\n",
       " 'min_samples_leaf': 2,\n",
       " 'max_features': 8,\n",
       " 'max_depth': 12}"
      ]
     },
     "execution_count": 72,
     "metadata": {},
     "output_type": "execute_result"
    }
   ],
   "source": [
    "FitRF_RamdonSearchCV.best_params_"
   ]
  },
  {
   "cell_type": "code",
   "execution_count": 73,
   "id": "ba4818f6",
   "metadata": {},
   "outputs": [],
   "source": [
    "Model_final_RF=best_modelRF"
   ]
  },
  {
   "cell_type": "code",
   "execution_count": 74,
   "id": "4f264973",
   "metadata": {},
   "outputs": [],
   "source": [
    "Model_final_RF.fit(X_train,y_train)\n",
    "Model_final_RF_predicion_test=Model_final_RF.predict(X_test)\n",
    "Model_final_RF_predicion_train=Model_final_RF.predict(X_train)"
   ]
  },
  {
   "cell_type": "code",
   "execution_count": 75,
   "id": "b1d5c214",
   "metadata": {},
   "outputs": [
    {
     "name": "stdout",
     "output_type": "stream",
     "text": [
      "Modelo RandomForestRegressor- Con Optimizacion de Hiperparametros-\n",
      " \n",
      "RMSE_Train: 34.24162428075622\n",
      "RMSE_test: 36.11760332684699\n",
      " \n",
      "MAE_Train: 19.03991260704086\n",
      "MAE_test: 19.761133194209613\n"
     ]
    }
   ],
   "source": [
    "print(\"Modelo RandomForestRegressor- Con Optimizacion de Hiperparametros-\")\n",
    "print(\" \")\n",
    "print(\"RMSE_Train:\",mean_squared_error(y_train,Model_final_RF_predicion_train, squared=False))\n",
    "print(\"RMSE_test:\",mean_squared_error(y_test,Model_final_RF_predicion_test, squared=False))\n",
    "print(\" \")\n",
    "print(\"MAE_Train:\",mean_absolute_error(y_train,Model_final_RF_predicion_train))\n",
    "print(\"MAE_test:\",mean_absolute_error(y_test,Model_final_RF_predicion_test))"
   ]
  },
  {
   "cell_type": "markdown",
   "id": "931fc568",
   "metadata": {},
   "source": [
    "**MODELO AdaBoostRegressor**"
   ]
  },
  {
   "cell_type": "code",
   "execution_count": 76,
   "id": "d6586d0d",
   "metadata": {},
   "outputs": [],
   "source": [
    "Model_ada=AdaBoostRegressor()\n",
    "Model_ada.fit(X_train,y_train)\n",
    "\n",
    "Model_adapredicion_test=Model_ada.predict(X_test)\n",
    "Model_adapredicion_train=Model_ada.predict(X_train)"
   ]
  },
  {
   "cell_type": "code",
   "execution_count": 77,
   "id": "9415cd59",
   "metadata": {
    "scrolled": true
   },
   "outputs": [
    {
     "name": "stdout",
     "output_type": "stream",
     "text": [
      "Modelo AdaBoostRegressor- Sin Optimizacino de Hiperparametros-\n",
      " \n",
      "RMSE_Train: 41.79633418296885\n",
      "RMSE_test: 41.7978413162917\n",
      " \n",
      "MAE_Train: 29.17755788996723\n",
      "MAE_test: 29.145695190136653\n"
     ]
    }
   ],
   "source": [
    "print(\"Modelo AdaBoostRegressor- Sin Optimizacino de Hiperparametros-\")\n",
    "print(\" \")\n",
    "print(\"RMSE_Train:\",mean_squared_error(y_train,Model_adapredicion_train, squared=False))\n",
    "print(\"RMSE_test:\",mean_squared_error(y_test,Model_adapredicion_test, squared=False))\n",
    "print(\" \")\n",
    "print(\"MAE_Train:\",mean_absolute_error(y_train,Model_adapredicion_train))\n",
    "print(\"MAE_test:\",mean_absolute_error(y_test,Model_adapredicion_test))"
   ]
  },
  {
   "cell_type": "markdown",
   "id": "f47eb1b9",
   "metadata": {},
   "source": [
    "Antes de optimizar lo hiporparametros evaluaremos cual es la profundidad del arbol de descision optima."
   ]
  },
  {
   "cell_type": "code",
   "execution_count": 105,
   "id": "8f62e3e8",
   "metadata": {},
   "outputs": [],
   "source": [
    "lista_train= []\n",
    "lista_test= []\n",
    "max_depths=[10,13,15,16,17,18,19,20,21] \n",
    "\n",
    "for max_depth in max_depths:\n",
    "    \n",
    "    ada=AdaBoostRegressor(DecisionTreeRegressor(max_depth=max_depth,random_state=42))\n",
    "    ada.fit(X_train,y_train)\n",
    "            \n",
    "    ytrain_predic=ada.predict(X_train)\n",
    "    \n",
    "    Train=mean_squared_error(y_train,ytrain_predic,squared=False)   \n",
    "    lista_train.append(Train)\n",
    "    \n",
    "    Test_predic=ada.predict(X_test)         \n",
    "    \n",
    "    Test=mean_squared_error(y_test,Test_predic,squared=False)\n",
    "    lista_test.append(Test)       "
   ]
  },
  {
   "cell_type": "markdown",
   "id": "709e4eb9",
   "metadata": {},
   "source": [
    "El max_depth 13 ya que reduce el RSME y a su vez posee poca varianza."
   ]
  },
  {
   "cell_type": "code",
   "execution_count": 106,
   "id": "88800b7a",
   "metadata": {},
   "outputs": [
    {
     "data": {
      "image/png": "[encoded data removed]",
      "text/plain": [
       "<Figure size 432x288 with 1 Axes>"
      ]
     },
     "metadata": {},
     "output_type": "display_data"
    }
   ],
   "source": [
    "plt.plot(max_depths,lista_train,\"o-\", label=\"train\")\n",
    "plt.plot(max_depths,lista_test,\"o-\", label=\"test\")\n",
    "plt.title(\"Modelo AdaBoostRegressor Train vs.Test por Profundidad\")\n",
    "plt.xlabel(\"AdaBoost -depth tree\")\n",
    "plt.ylabel(\"RMSE\")\n",
    "plt.grid()\n",
    "plt.legend()\n",
    "plt.show()"
   ]
  },
  {
   "cell_type": "markdown",
   "id": "5eb78e8c",
   "metadata": {},
   "source": [
    "Optimizamos lo hiperparametros a traves de un Ramdon Search CV."
   ]
  },
  {
   "cell_type": "code",
   "execution_count": 107,
   "id": "e4a058b5",
   "metadata": {},
   "outputs": [],
   "source": [
    "Model_ada_R=AdaBoostRegressor(DecisionTreeRegressor(max_depth=13,random_state=42))"
   ]
  },
  {
   "cell_type": "code",
   "execution_count": 108,
   "id": "999c6899",
   "metadata": {},
   "outputs": [],
   "source": [
    "param_ada_R={\"n_estimators\":[50,70,80,100,120],\n",
    "             \"learning_rate\":[0.1,0.15,0.2,0.3,0.4,0.45,0.5,1],\n",
    "             \"loss\":[\"linear\",\"square\",\"exponential\"]}\n",
    "\n",
    "##PARAMETROS DEFUALT_ \n",
    "#.n_estimators:50\n",
    "#.learning_rate:1\n",
    "#.loss: linear\n"
   ]
  },
  {
   "cell_type": "code",
   "execution_count": 109,
   "id": "8106a894",
   "metadata": {},
   "outputs": [],
   "source": [
    "Ada_RandomizedSearchCV=RandomizedSearchCV(Model_ada_R,param_ada_R,scoring=\"neg_root_mean_squared_error\",n_jobs=-1,n_iter=30,cv= 5)"
   ]
  },
  {
   "cell_type": "code",
   "execution_count": 110,
   "id": "bc385b4b",
   "metadata": {},
   "outputs": [],
   "source": [
    "FitRF_Model_ada_R=Ada_RandomizedSearchCV.fit(X_train,y_train)\n",
    "best_modelADA=FitRF_Model_ada_R.best_estimator_\n"
   ]
  },
  {
   "cell_type": "code",
   "execution_count": 111,
   "id": "6f8deed4",
   "metadata": {},
   "outputs": [
    {
     "data": {
      "text/plain": [
       "{'n_estimators': 70, 'loss': 'exponential', 'learning_rate': 0.1}"
      ]
     },
     "execution_count": 111,
     "metadata": {},
     "output_type": "execute_result"
    }
   ],
   "source": [
    "FitRF_Model_ada_R.best_params_"
   ]
  },
  {
   "cell_type": "code",
   "execution_count": 112,
   "id": "6038739a",
   "metadata": {},
   "outputs": [],
   "source": [
    "Model_final_ADA=best_modelADA"
   ]
  },
  {
   "cell_type": "code",
   "execution_count": 113,
   "id": "b5f9c4dd",
   "metadata": {},
   "outputs": [],
   "source": [
    "Model_final_ADA.fit(X_train,y_train)\n",
    "Model_final_ADA_predicion_test=Model_final_ADA.predict(X_test)\n",
    "Model_final_ADA_predicion_train=Model_final_ADA.predict(X_train)"
   ]
  },
  {
   "cell_type": "code",
   "execution_count": 114,
   "id": "53f7dd03",
   "metadata": {},
   "outputs": [
    {
     "name": "stdout",
     "output_type": "stream",
     "text": [
      "Modelo AdaBoostRegressor- Con Optimizacion de Hiperparametros-\n",
      " \n",
      "RMSE_Train: 34.7197587545491\n",
      "RMSE_test: 37.996750532729564\n",
      " \n",
      "MAE_Train: 22.95439006635912\n",
      "MAE_test: 24.09342369939586\n"
     ]
    }
   ],
   "source": [
    "print(\"Modelo AdaBoostRegressor- Con Optimizacion de Hiperparametros-\")\n",
    "print(\" \")\n",
    "print(\"RMSE_Train:\",mean_squared_error(y_train,Model_final_ADA_predicion_train, squared=False))\n",
    "print(\"RMSE_test:\",mean_squared_error(y_test,Model_final_ADA_predicion_test, squared=False))\n",
    "print(\" \")\n",
    "print(\"MAE_Train:\",mean_absolute_error(y_train,Model_final_ADA_predicion_train))\n",
    "print(\"MAE_test:\",mean_absolute_error(y_test,Model_final_ADA_predicion_test))"
   ]
  },
  {
   "cell_type": "markdown",
   "id": "32d4fef5",
   "metadata": {},
   "source": [
    "# **Red Neuronal**"
   ]
  },
  {
   "cell_type": "markdown",
   "id": "4e971b1b",
   "metadata": {},
   "source": [
    "Como tercer modelo realizamos un red neuronal."
   ]
  },
  {
   "cell_type": "code",
   "execution_count": 118,
   "id": "cc05df7d",
   "metadata": {},
   "outputs": [
    {
     "name": "stdout",
     "output_type": "stream",
     "text": [
      "2.6.0\n"
     ]
    }
   ],
   "source": [
    "import tensorflow as tf\n",
    "\n",
    "from tensorflow import keras\n",
    "from tensorflow.keras import layers\n",
    "\n",
    "print(tf.keras.__version__)"
   ]
  },
  {
   "cell_type": "code",
   "execution_count": 119,
   "id": "eeffa1e9",
   "metadata": {},
   "outputs": [],
   "source": [
    "def build_model():\n",
    "    model = keras.Sequential([\n",
    "       layers.Dense(64, activation='relu', input_shape=[14]),\n",
    "       layers.Dense(64, activation='relu'),\n",
    "       layers.Dense(1)\n",
    "       ])\n",
    "\n",
    "    optimizer = tf.keras.optimizers.Adam(learning_rate=0.001)\n",
    "\n",
    "    model.compile(loss='mse',\n",
    "                  optimizer=optimizer,\n",
    "                  metrics=['mae', 'mse'])\n",
    "    return model"
   ]
  },
  {
   "cell_type": "code",
   "execution_count": 120,
   "id": "93eff954",
   "metadata": {},
   "outputs": [],
   "source": [
    "model=build_model()"
   ]
  },
  {
   "cell_type": "code",
   "execution_count": 121,
   "id": "943a4cda",
   "metadata": {},
   "outputs": [
    {
     "name": "stdout",
     "output_type": "stream",
     "text": [
      "Model: \"sequential\"\n",
      "_________________________________________________________________\n",
      "Layer (type)                 Output Shape              Param #   \n",
      "=================================================================\n",
      "dense (Dense)                (None, 64)                960       \n",
      "_________________________________________________________________\n",
      "dense_1 (Dense)              (None, 64)                4160      \n",
      "_________________________________________________________________\n",
      "dense_2 (Dense)              (None, 1)                 65        \n",
      "=================================================================\n",
      "Total params: 5,185\n",
      "Trainable params: 5,185\n",
      "Non-trainable params: 0\n",
      "_________________________________________________________________\n"
     ]
    }
   ],
   "source": [
    "model.summary()"
   ]
  },
  {
   "cell_type": "code",
   "execution_count": 122,
   "id": "bd586934",
   "metadata": {
    "scrolled": true
   },
   "outputs": [
    {
     "name": "stdout",
     "output_type": "stream",
     "text": [
      "Epoch 1/100\n",
      "13794/13794 [==============================] - 12s 819us/step - loss: 1389.5808 - mae: 20.6048 - mse: 1389.5808 - val_loss: 1349.9209 - val_mae: 20.3578 - val_mse: 1349.9209\n",
      "Epoch 2/100\n",
      "13794/13794 [==============================] - 11s 811us/step - loss: 1342.7361 - mae: 20.2076 - mse: 1342.7361 - val_loss: 1340.9690 - val_mae: 19.3075 - val_mse: 1340.9690\n",
      "Epoch 3/100\n",
      "13794/13794 [==============================] - 11s 814us/step - loss: 1331.2661 - mae: 20.0828 - mse: 1331.2661 - val_loss: 1330.4382 - val_mae: 19.6019 - val_mse: 1330.4382\n",
      "Epoch 4/100\n",
      "13794/13794 [==============================] - 11s 814us/step - loss: 1325.7493 - mae: 20.0393 - mse: 1325.7493 - val_loss: 1326.9307 - val_mae: 20.6078 - val_mse: 1326.9307\n",
      "Epoch 5/100\n",
      "13794/13794 [==============================] - 11s 816us/step - loss: 1320.7109 - mae: 19.9832 - mse: 1320.7109 - val_loss: 1323.3259 - val_mae: 19.6487 - val_mse: 1323.3259\n",
      "Epoch 6/100\n",
      "13794/13794 [==============================] - 11s 819us/step - loss: 1316.7937 - mae: 19.9474 - mse: 1316.7937 - val_loss: 1320.3328 - val_mae: 20.1459 - val_mse: 1320.3328\n",
      "Epoch 7/100\n",
      "13794/13794 [==============================] - 11s 824us/step - loss: 1314.3308 - mae: 19.9244 - mse: 1314.3308 - val_loss: 1314.4346 - val_mae: 19.8928 - val_mse: 1314.4346\n",
      "Epoch 8/100\n",
      "13794/13794 [==============================] - 12s 843us/step - loss: 1311.9092 - mae: 19.8993 - mse: 1311.9092 - val_loss: 1313.4398 - val_mae: 19.6639 - val_mse: 1313.4398\n",
      "Epoch 9/100\n",
      "13794/13794 [==============================] - 12s 850us/step - loss: 1310.4437 - mae: 19.8837 - mse: 1310.4437 - val_loss: 1320.4603 - val_mae: 20.3179 - val_mse: 1320.4603\n",
      "Epoch 10/100\n",
      "13794/13794 [==============================] - 12s 861us/step - loss: 1308.2982 - mae: 19.8684 - mse: 1308.2982 - val_loss: 1312.3567 - val_mae: 19.8437 - val_mse: 1312.3567\n",
      "Epoch 11/100\n",
      "13794/13794 [==============================] - 12s 865us/step - loss: 1306.9116 - mae: 19.8505 - mse: 1306.9116 - val_loss: 1311.9829 - val_mae: 19.9741 - val_mse: 1311.9829\n",
      "Epoch 12/100\n",
      "13794/13794 [==============================] - 12s 860us/step - loss: 1305.6278 - mae: 19.8427 - mse: 1305.6278 - val_loss: 1309.6300 - val_mae: 19.4207 - val_mse: 1309.6300\n",
      "Epoch 13/100\n",
      "13794/13794 [==============================] - 12s 869us/step - loss: 1304.7090 - mae: 19.8367 - mse: 1304.7090 - val_loss: 1311.2218 - val_mae: 19.5459 - val_mse: 1311.2218\n",
      "Epoch 14/100\n",
      "13794/13794 [==============================] - 12s 867us/step - loss: 1303.5941 - mae: 19.8184 - mse: 1303.5941 - val_loss: 1310.6854 - val_mae: 19.3415 - val_mse: 1310.6854\n",
      "Epoch 15/100\n",
      "13794/13794 [==============================] - 12s 863us/step - loss: 1302.4340 - mae: 19.8106 - mse: 1302.4340 - val_loss: 1308.6122 - val_mae: 19.6320 - val_mse: 1308.6122\n",
      "Epoch 16/100\n",
      "13794/13794 [==============================] - 12s 874us/step - loss: 1301.2256 - mae: 19.7974 - mse: 1301.2256 - val_loss: 1307.3613 - val_mae: 19.4011 - val_mse: 1307.3613\n",
      "Epoch 17/100\n",
      "13794/13794 [==============================] - 12s 872us/step - loss: 1300.3579 - mae: 19.7949 - mse: 1300.3579 - val_loss: 1308.1589 - val_mae: 19.9616 - val_mse: 1308.1589\n",
      "Epoch 18/100\n",
      "13794/13794 [==============================] - 12s 874us/step - loss: 1299.7567 - mae: 19.7770 - mse: 1299.7567 - val_loss: 1304.1300 - val_mae: 19.8293 - val_mse: 1304.1300\n",
      "Epoch 19/100\n",
      "13794/13794 [==============================] - 12s 871us/step - loss: 1298.8214 - mae: 19.7696 - mse: 1298.8214 - val_loss: 1306.5693 - val_mae: 20.3292 - val_mse: 1306.5693\n",
      "Epoch 20/100\n",
      "13794/13794 [==============================] - 12s 867us/step - loss: 1297.9432 - mae: 19.7701 - mse: 1297.9432 - val_loss: 1312.9242 - val_mae: 19.4755 - val_mse: 1312.9242\n",
      "Epoch 21/100\n",
      "13794/13794 [==============================] - 12s 876us/step - loss: 1296.7897 - mae: 19.7592 - mse: 1296.7897 - val_loss: 1303.2705 - val_mae: 19.7718 - val_mse: 1303.2705mae: 19.7525 - mse: - ETA: 0s - loss: 1296.2849 - m\n",
      "Epoch 22/100\n",
      "13794/13794 [==============================] - 12s 878us/step - loss: 1295.9434 - mae: 19.7493 - mse: 1295.9434 - val_loss: 1303.8643 - val_mae: 19.9517 - val_mse: 1303.8643\n",
      "Epoch 23/100\n",
      "13794/13794 [==============================] - 12s 867us/step - loss: 1296.4552 - mae: 19.7492 - mse: 1296.4552 - val_loss: 1310.1572 - val_mae: 20.3367 - val_mse: 1310.1572\n",
      "Epoch 24/100\n",
      "13794/13794 [==============================] - 12s 870us/step - loss: 1295.1545 - mae: 19.7372 - mse: 1295.1545 - val_loss: 1305.4401 - val_mae: 20.3586 - val_mse: 1305.4401\n",
      "Epoch 25/100\n",
      "13794/13794 [==============================] - 12s 869us/step - loss: 1294.6261 - mae: 19.7362 - mse: 1294.6261 - val_loss: 1305.6799 - val_mae: 19.5621 - val_mse: 1305.6799\n",
      "Epoch 26/100\n",
      "13794/13794 [==============================] - 12s 873us/step - loss: 1294.3319 - mae: 19.7291 - mse: 1294.3319 - val_loss: 1309.0013 - val_mae: 19.5023 - val_mse: 1309.0013\n",
      "Epoch 27/100\n",
      "13794/13794 [==============================] - 12s 872us/step - loss: 1293.4905 - mae: 19.7250 - mse: 1293.4905 - val_loss: 1301.8890 - val_mae: 19.6682 - val_mse: 1301.8890\n",
      "Epoch 28/100\n",
      "13794/13794 [==============================] - 12s 873us/step - loss: 1292.3496 - mae: 19.7180 - mse: 1292.3496 - val_loss: 1307.2828 - val_mae: 19.8256 - val_mse: 1307.2828\n",
      "Epoch 29/100\n",
      "13794/13794 [==============================] - 12s 872us/step - loss: 1291.8586 - mae: 19.7145 - mse: 1291.8586 - val_loss: 1300.6993 - val_mae: 20.0852 - val_mse: 1300.6993\n",
      "Epoch 30/100\n",
      "13794/13794 [==============================] - 12s 871us/step - loss: 1291.8679 - mae: 19.7117 - mse: 1291.8679 - val_loss: 1299.0765 - val_mae: 19.5885 - val_mse: 1299.0765\n",
      "Epoch 31/100\n",
      "13794/13794 [==============================] - 12s 874us/step - loss: 1291.4229 - mae: 19.7101 - mse: 1291.4229 - val_loss: 1300.0781 - val_mae: 19.8214 - val_mse: 1300.0781\n",
      "Epoch 32/100\n",
      "13794/13794 [==============================] - 12s 875us/step - loss: 1290.6599 - mae: 19.7035 - mse: 1290.6599 - val_loss: 1299.5293 - val_mae: 19.5012 - val_mse: 1299.5293\n",
      "Epoch 33/100\n",
      "13794/13794 [==============================] - 12s 881us/step - loss: 1289.9960 - mae: 19.6951 - mse: 1289.9960 - val_loss: 1306.3431 - val_mae: 19.7817 - val_mse: 1306.3431\n",
      "Epoch 34/100\n",
      "13794/13794 [==============================] - 12s 878us/step - loss: 1289.3203 - mae: 19.6849 - mse: 1289.3203 - val_loss: 1300.9309 - val_mae: 20.1054 - val_mse: 1300.9309\n",
      "Epoch 35/100\n",
      "13794/13794 [==============================] - 12s 875us/step - loss: 1288.9207 - mae: 19.6910 - mse: 1288.9207 - val_loss: 1298.7463 - val_mae: 19.9660 - val_mse: 1298.7463\n",
      "Epoch 36/100\n",
      "13794/13794 [==============================] - 12s 877us/step - loss: 1288.4821 - mae: 19.6899 - mse: 1288.4821 - val_loss: 1299.5807 - val_mae: 19.4909 - val_mse: 1299.5807\n",
      "Epoch 37/100\n",
      "13794/13794 [==============================] - 12s 884us/step - loss: 1286.9126 - mae: 19.6713 - mse: 1286.9126 - val_loss: 1301.7242 - val_mae: 20.2838 - val_mse: 1301.7242\n",
      "Epoch 38/100\n",
      "13794/13794 [==============================] - 12s 883us/step - loss: 1287.0031 - mae: 19.6803 - mse: 1287.0031 - val_loss: 1299.9797 - val_mae: 19.8600 - val_mse: 1299.9797\n",
      "Epoch 39/100\n",
      "13794/13794 [==============================] - 12s 882us/step - loss: 1286.7510 - mae: 19.6753 - mse: 1286.7510 - val_loss: 1302.4137 - val_mae: 19.5387 - val_mse: 1302.4137\n",
      "Epoch 40/100\n",
      "13794/13794 [==============================] - 12s 878us/step - loss: 1286.2628 - mae: 19.6774 - mse: 1286.2628 - val_loss: 1303.5973 - val_mae: 20.0528 - val_mse: 1303.5973\n",
      "Epoch 41/100\n",
      "13794/13794 [==============================] - 12s 883us/step - loss: 1285.7678 - mae: 19.6658 - mse: 1285.7678 - val_loss: 1300.3280 - val_mae: 20.0173 - val_mse: 1300.3280\n",
      "Epoch 42/100\n",
      "13794/13794 [==============================] - 12s 880us/step - loss: 1285.4882 - mae: 19.6664 - mse: 1285.4882 - val_loss: 1302.0006 - val_mae: 19.8279 - val_mse: 1302.0006\n",
      "Epoch 43/100\n",
      "13794/13794 [==============================] - 12s 891us/step - loss: 1285.0758 - mae: 19.6619 - mse: 1285.0758 - val_loss: 1304.2805 - val_mae: 19.6329 - val_mse: 1304.2805\n",
      "Epoch 44/100\n"
     ]
    },
    {
     "name": "stdout",
     "output_type": "stream",
     "text": [
      "13794/13794 [==============================] - 12s 883us/step - loss: 1285.0010 - mae: 19.6620 - mse: 1285.0010 - val_loss: 1301.7965 - val_mae: 19.8427 - val_mse: 1301.7965\n",
      "Epoch 45/100\n",
      "13794/13794 [==============================] - 12s 882us/step - loss: 1284.4607 - mae: 19.6628 - mse: 1284.4607 - val_loss: 1300.4943 - val_mae: 20.3658 - val_mse: 1300.4943\n",
      "Epoch 46/100\n",
      "13794/13794 [==============================] - 12s 881us/step - loss: 1284.0215 - mae: 19.6536 - mse: 1284.0215 - val_loss: 1303.0642 - val_mae: 19.7390 - val_mse: 1303.0642\n",
      "Epoch 47/100\n",
      "13794/13794 [==============================] - 12s 880us/step - loss: 1283.4856 - mae: 19.6577 - mse: 1283.4856 - val_loss: 1301.6302 - val_mae: 19.6147 - val_mse: 1301.6302\n",
      "Epoch 48/100\n",
      "13794/13794 [==============================] - 12s 881us/step - loss: 1282.8772 - mae: 19.6470 - mse: 1282.8772 - val_loss: 1307.6165 - val_mae: 20.0921 - val_mse: 1307.6165\n",
      "Epoch 49/100\n",
      "13794/13794 [==============================] - 12s 890us/step - loss: 1282.8502 - mae: 19.6439 - mse: 1282.8502 - val_loss: 1304.1709 - val_mae: 20.2531 - val_mse: 1304.1709\n",
      "Epoch 50/100\n",
      "13794/13794 [==============================] - 12s 882us/step - loss: 1282.4733 - mae: 19.6416 - mse: 1282.4733 - val_loss: 1301.3104 - val_mae: 19.8787 - val_mse: 1301.3104\n",
      "Epoch 51/100\n",
      "13794/13794 [==============================] - 12s 883us/step - loss: 1282.8927 - mae: 19.6494 - mse: 1282.8927 - val_loss: 1302.6790 - val_mae: 20.3553 - val_mse: 1302.6790\n",
      "Epoch 52/100\n",
      "13794/13794 [==============================] - 12s 884us/step - loss: 1281.9500 - mae: 19.6395 - mse: 1281.9500 - val_loss: 1301.8694 - val_mae: 19.3584 - val_mse: 1301.8694\n",
      "Epoch 53/100\n",
      "13794/13794 [==============================] - 12s 882us/step - loss: 1280.7903 - mae: 19.6348 - mse: 1280.7903 - val_loss: 1301.5714 - val_mae: 20.1789 - val_mse: 1301.5714\n",
      "Epoch 54/100\n",
      "13794/13794 [==============================] - 12s 877us/step - loss: 1280.9927 - mae: 19.6300 - mse: 1280.9927 - val_loss: 1300.7959 - val_mae: 19.3698 - val_mse: 1300.7959\n",
      "Epoch 55/100\n",
      "13794/13794 [==============================] - 12s 877us/step - loss: 1280.5515 - mae: 19.6346 - mse: 1280.5515 - val_loss: 1302.6704 - val_mae: 20.1035 - val_mse: 1302.6704\n",
      "Epoch 56/100\n",
      "13794/13794 [==============================] - 12s 875us/step - loss: 1280.9133 - mae: 19.6259 - mse: 1280.9133 - val_loss: 1297.7061 - val_mae: 19.8705 - val_mse: 1297.7061\n",
      "Epoch 57/100\n",
      "13794/13794 [==============================] - 12s 873us/step - loss: 1280.0137 - mae: 19.6287 - mse: 1280.0137 - val_loss: 1298.0024 - val_mae: 19.8843 - val_mse: 1298.0024\n",
      "Epoch 58/100\n",
      "13794/13794 [==============================] - 12s 871us/step - loss: 1280.0486 - mae: 19.6304 - mse: 1280.0486 - val_loss: 1297.5145 - val_mae: 19.9844 - val_mse: 1297.5145\n",
      "Epoch 59/100\n",
      "13794/13794 [==============================] - 12s 876us/step - loss: 1279.2113 - mae: 19.6244 - mse: 1279.2113 - val_loss: 1305.1450 - val_mae: 20.4769 - val_mse: 1305.1450\n",
      "Epoch 60/100\n",
      "13794/13794 [==============================] - 12s 885us/step - loss: 1278.6742 - mae: 19.6230 - mse: 1278.6742 - val_loss: 1299.9561 - val_mae: 19.9135 - val_mse: 1299.9561\n",
      "Epoch 61/100\n",
      "13794/13794 [==============================] - 12s 871us/step - loss: 1278.3378 - mae: 19.6244 - mse: 1278.3378 - val_loss: 1300.0492 - val_mae: 19.6058 - val_mse: 1300.0492\n",
      "Epoch 62/100\n",
      "13794/13794 [==============================] - 12s 872us/step - loss: 1278.9193 - mae: 19.6167 - mse: 1278.9193 - val_loss: 1302.2396 - val_mae: 20.0789 - val_mse: 1302.2396\n",
      "Epoch 63/100\n",
      "13794/13794 [==============================] - 12s 877us/step - loss: 1278.5367 - mae: 19.6181 - mse: 1278.5367 - val_loss: 1301.0494 - val_mae: 19.5188 - val_mse: 1301.0494\n",
      "Epoch 64/100\n",
      "13794/13794 [==============================] - 12s 883us/step - loss: 1277.8965 - mae: 19.6172 - mse: 1277.8965 - val_loss: 1297.1251 - val_mae: 19.6892 - val_mse: 1297.1251\n",
      "Epoch 65/100\n",
      "13794/13794 [==============================] - 12s 874us/step - loss: 1277.7576 - mae: 19.6133 - mse: 1277.7576 - val_loss: 1302.4653 - val_mae: 20.1554 - val_mse: 1302.4653\n",
      "Epoch 66/100\n",
      "13794/13794 [==============================] - 12s 879us/step - loss: 1277.6354 - mae: 19.6072 - mse: 1277.6354 - val_loss: 1299.0524 - val_mae: 20.2904 - val_mse: 1299.0524\n",
      "Epoch 67/100\n",
      "13794/13794 [==============================] - 12s 875us/step - loss: 1276.9691 - mae: 19.6045 - mse: 1276.9691 - val_loss: 1300.3484 - val_mae: 20.0682 - val_mse: 1300.3484\n",
      "Epoch 68/100\n",
      "13794/13794 [==============================] - 12s 873us/step - loss: 1276.9484 - mae: 19.6057 - mse: 1276.9484 - val_loss: 1300.7440 - val_mae: 20.0654 - val_mse: 1300.7440\n",
      "Epoch 69/100\n",
      "13794/13794 [==============================] - 12s 872us/step - loss: 1277.1311 - mae: 19.6076 - mse: 1277.1311 - val_loss: 1297.1210 - val_mae: 19.5954 - val_mse: 1297.1210\n",
      "Epoch 70/100\n",
      "13794/13794 [==============================] - 12s 873us/step - loss: 1276.5339 - mae: 19.6028 - mse: 1276.5339 - val_loss: 1297.6465 - val_mae: 19.9827 - val_mse: 1297.6465\n",
      "Epoch 71/100\n",
      "13794/13794 [==============================] - 12s 881us/step - loss: 1276.5070 - mae: 19.6031 - mse: 1276.5070 - val_loss: 1301.6249 - val_mae: 20.1436 - val_mse: 1301.6249\n",
      "Epoch 72/100\n",
      "13794/13794 [==============================] - 12s 871us/step - loss: 1275.6770 - mae: 19.5934 - mse: 1275.6770 - val_loss: 1302.8087 - val_mae: 20.2027 - val_mse: 1302.8087\n",
      "Epoch 73/100\n",
      "13794/13794 [==============================] - 12s 882us/step - loss: 1275.7177 - mae: 19.6013 - mse: 1275.7177 - val_loss: 1297.4763 - val_mae: 19.7558 - val_mse: 1297.4763\n",
      "Epoch 74/100\n",
      "13794/13794 [==============================] - 12s 875us/step - loss: 1275.2634 - mae: 19.5962 - mse: 1275.2634 - val_loss: 1299.3606 - val_mae: 19.7697 - val_mse: 1299.3606\n",
      "Epoch 75/100\n",
      "13794/13794 [==============================] - 12s 879us/step - loss: 1274.7278 - mae: 19.5947 - mse: 1274.7278 - val_loss: 1301.4543 - val_mae: 19.9371 - val_mse: 1301.4543\n",
      "Epoch 76/100\n",
      "13794/13794 [==============================] - 12s 873us/step - loss: 1275.0038 - mae: 19.6022 - mse: 1275.0038 - val_loss: 1299.5455 - val_mae: 19.3033 - val_mse: 1299.5455\n",
      "Epoch 77/100\n",
      "13794/13794 [==============================] - 12s 874us/step - loss: 1274.7292 - mae: 19.5938 - mse: 1274.7292 - val_loss: 1296.2882 - val_mae: 19.7101 - val_mse: 1296.2882\n",
      "Epoch 78/100\n",
      "13794/13794 [==============================] - 12s 878us/step - loss: 1274.7018 - mae: 19.5862 - mse: 1274.7018 - val_loss: 1299.5316 - val_mae: 20.0115 - val_mse: 1299.5316\n",
      "Epoch 79/100\n",
      "13794/13794 [==============================] - 12s 878us/step - loss: 1274.0946 - mae: 19.5918 - mse: 1274.0946 - val_loss: 1297.6477 - val_mae: 19.8785 - val_mse: 1297.6477\n",
      "Epoch 80/100\n",
      "13794/13794 [==============================] - 12s 874us/step - loss: 1273.5356 - mae: 19.5910 - mse: 1273.5356 - val_loss: 1302.8612 - val_mae: 19.3681 - val_mse: 1302.8612\n",
      "Epoch 81/100\n",
      "13794/13794 [==============================] - 12s 875us/step - loss: 1274.1573 - mae: 19.5872 - mse: 1274.1573 - val_loss: 1299.5745 - val_mae: 19.9117 - val_mse: 1299.5745\n",
      "Epoch 82/100\n",
      "13794/13794 [==============================] - 12s 875us/step - loss: 1273.6304 - mae: 19.5861 - mse: 1273.6304 - val_loss: 1298.0233 - val_mae: 19.5798 - val_mse: 1298.0233\n",
      "Epoch 83/100\n",
      "13794/13794 [==============================] - 12s 881us/step - loss: 1273.4069 - mae: 19.5852 - mse: 1273.4069 - val_loss: 1301.9940 - val_mae: 19.9465 - val_mse: 1301.9940\n",
      "Epoch 84/100\n",
      "13794/13794 [==============================] - 12s 882us/step - loss: 1273.2339 - mae: 19.5853 - mse: 1273.2339 - val_loss: 1298.9454 - val_mae: 19.4989 - val_mse: 1298.9454\n",
      "Epoch 85/100\n",
      "13794/13794 [==============================] - 12s 876us/step - loss: 1273.5040 - mae: 19.5831 - mse: 1273.5040 - val_loss: 1303.0775 - val_mae: 19.4839 - val_mse: 1303.0775\n",
      "Epoch 86/100\n",
      "13794/13794 [==============================] - 12s 878us/step - loss: 1272.9220 - mae: 19.5742 - mse: 1272.9220 - val_loss: 1298.1370 - val_mae: 19.5307 - val_mse: 1298.1370\n",
      "Epoch 87/100\n"
     ]
    },
    {
     "name": "stdout",
     "output_type": "stream",
     "text": [
      "13794/13794 [==============================] - 12s 883us/step - loss: 1272.7238 - mae: 19.5754 - mse: 1272.7238 - val_loss: 1297.5432 - val_mae: 19.4765 - val_mse: 1297.5432\n",
      "Epoch 88/100\n",
      "13794/13794 [==============================] - 12s 876us/step - loss: 1272.2603 - mae: 19.5733 - mse: 1272.2603 - val_loss: 1303.1685 - val_mae: 20.2871 - val_mse: 1303.1685\n",
      "Epoch 89/100\n",
      "13794/13794 [==============================] - 12s 873us/step - loss: 1272.2867 - mae: 19.5766 - mse: 1272.2867 - val_loss: 1296.6382 - val_mae: 19.5708 - val_mse: 1296.6382\n",
      "Epoch 90/100\n",
      "13794/13794 [==============================] - 12s 878us/step - loss: 1271.3728 - mae: 19.5634 - mse: 1271.3728 - val_loss: 1303.3467 - val_mae: 19.5065 - val_mse: 1303.3467\n",
      "Epoch 91/100\n",
      "13794/13794 [==============================] - 12s 876us/step - loss: 1271.8374 - mae: 19.5804 - mse: 1271.8374 - val_loss: 1300.3287 - val_mae: 19.2316 - val_mse: 1300.3287\n",
      "Epoch 92/100\n",
      "13794/13794 [==============================] - 12s 878us/step - loss: 1271.7117 - mae: 19.5727 - mse: 1271.7117 - val_loss: 1297.6777 - val_mae: 19.8022 - val_mse: 1297.6777\n",
      "Epoch 93/100\n",
      "13794/13794 [==============================] - 12s 874us/step - loss: 1271.2917 - mae: 19.5661 - mse: 1271.2917 - val_loss: 1299.9526 - val_mae: 20.0881 - val_mse: 1299.9526\n",
      "Epoch 94/100\n",
      "13794/13794 [==============================] - 12s 873us/step - loss: 1271.2299 - mae: 19.5753 - mse: 1271.2299 - val_loss: 1301.6295 - val_mae: 19.8842 - val_mse: 1301.6295\n",
      "Epoch 95/100\n",
      "13794/13794 [==============================] - 12s 879us/step - loss: 1270.7225 - mae: 19.5683 - mse: 1270.7225 - val_loss: 1300.8638 - val_mae: 19.9050 - val_mse: 1300.8638\n",
      "Epoch 96/100\n",
      "13794/13794 [==============================] - 12s 874us/step - loss: 1271.1450 - mae: 19.5752 - mse: 1271.1450 - val_loss: 1297.9332 - val_mae: 20.0245 - val_mse: 1297.9332\n",
      "Epoch 97/100\n",
      "13794/13794 [==============================] - 12s 872us/step - loss: 1270.3254 - mae: 19.5672 - mse: 1270.3254 - val_loss: 1296.1045 - val_mae: 19.8247 - val_mse: 1296.1045\n",
      "Epoch 98/100\n",
      "13794/13794 [==============================] - 12s 875us/step - loss: 1270.0106 - mae: 19.5644 - mse: 1270.0106 - val_loss: 1307.2841 - val_mae: 19.5702 - val_mse: 1307.2841\n",
      "Epoch 99/100\n",
      "13794/13794 [==============================] - 12s 872us/step - loss: 1270.2130 - mae: 19.5687 - mse: 1270.2130 - val_loss: 1300.8652 - val_mae: 20.3539 - val_mse: 1300.8652\n",
      "Epoch 100/100\n",
      "13794/13794 [==============================] - 12s 873us/step - loss: 1270.5342 - mae: 19.5700 - mse: 1270.5342 - val_loss: 1298.0846 - val_mae: 19.9024 - val_mse: 1298.0846\n"
     ]
    },
    {
     "data": {
      "text/plain": [
       "<tensorflow.python.keras.callbacks.History at 0x227240e70a0>"
      ]
     },
     "execution_count": 122,
     "metadata": {},
     "output_type": "execute_result"
    }
   ],
   "source": [
    "model.fit(X_train, y_train, epochs=100, validation_split = 0.2, verbose=1)"
   ]
  },
  {
   "cell_type": "code",
   "execution_count": 123,
   "id": "4cfe8db2",
   "metadata": {},
   "outputs": [],
   "source": [
    "y_pred=model.predict(X_test)"
   ]
  },
  {
   "cell_type": "code",
   "execution_count": 124,
   "id": "cfebd735",
   "metadata": {},
   "outputs": [
    {
     "data": {
      "text/plain": [
       "(137935, 1)"
      ]
     },
     "execution_count": 124,
     "metadata": {},
     "output_type": "execute_result"
    }
   ],
   "source": [
    "y_pred.shape"
   ]
  },
  {
   "cell_type": "code",
   "execution_count": 125,
   "id": "3cf0164e",
   "metadata": {},
   "outputs": [],
   "source": [
    "y_pred_train=model.predict(X_train)"
   ]
  },
  {
   "cell_type": "code",
   "execution_count": 126,
   "id": "19d3838d",
   "metadata": {},
   "outputs": [
    {
     "name": "stdout",
     "output_type": "stream",
     "text": [
      "RED NEURONAL\n",
      " \n",
      "RMSE_Train: 35.64928140191938\n",
      "RMSE_test: 36.02980438147655\n",
      " \n",
      "MAE_Train: 19.70966477196589\n",
      "MAE_test: 19.82953530652552\n"
     ]
    }
   ],
   "source": [
    "print(\"RED NEURONAL\")\n",
    "print(\" \")\n",
    "print(\"RMSE_Train:\",mean_squared_error(y_train,y_pred_train, squared=False))\n",
    "print(\"RMSE_test:\",mean_squared_error(y_test,y_pred, squared=False))\n",
    "print(\" \")\n",
    "print(\"MAE_Train:\",mean_absolute_error(y_train,y_pred_train))\n",
    "print(\"MAE_test:\",mean_absolute_error(y_test,y_pred))"
   ]
  },
  {
   "cell_type": "markdown",
   "id": "e325393f",
   "metadata": {},
   "source": [
    "Como conclusio vemos que le mejor resultado lo arroja la red neuronal por muy poca diferencia con respecto al modelo ramdon forest.La descision de cual utilizar estara dada por lo recursos computacionales. Por mi lado recomiendo utilizar el Ramdon Forest optimisado ya que es un modelo mas simple que la red neuronal y la diferencia en test es infima RF RMSE: 36.11 y RN RMSE: 36,02."
   ]
  },
  {
   "cell_type": "code",
   "execution_count": null,
   "id": "a19e2b9e",
   "metadata": {},
   "outputs": [],
   "source": []
  }
 ],
 "metadata": {
  "kernelspec": {
   "display_name": "Python 3 (ipykernel)",
   "language": "python",
   "name": "python3"
  },
  "language_info": {
   "codemirror_mode": {
    "name": "ipython",
    "version": 3
   },
   "file_extension": ".py",
   "mimetype": "text/x-python",
   "name": "python",
   "nbconvert_exporter": "python",
   "pygments_lexer": "ipython3",
   "version": "3.9.7"
  }
 },
 "nbformat": 4,
 "nbformat_minor": 5
}
